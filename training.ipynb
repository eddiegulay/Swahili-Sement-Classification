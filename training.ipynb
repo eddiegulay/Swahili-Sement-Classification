{
 "cells": [
  {
   "cell_type": "code",
   "execution_count": 1,
   "metadata": {},
   "outputs": [],
   "source": [
    "# load libraries\n",
    "import pandas  as pd\n",
    "import numpy as np\n",
    "\n",
    "from tensorflow import keras\n",
    "from tensorflow.keras.preprocessing.text import Tokenizer\n",
    "from tensorflow.keras.preprocessing.sequence import pad_sequences\n",
    "\n",
    "from tensorflow.keras.models import Sequential\n",
    "from tensorflow.keras.layers import Embedding, LSTM, Dense, Dropout, Bidirectional\n",
    "\n"
   ]
  },
  {
   "cell_type": "code",
   "execution_count": 2,
   "metadata": {},
   "outputs": [],
   "source": [
    "# load data from assets folder\n",
    "path = 'assets/'\n",
    "train  = pd.read_csv(path + 'train.csv')\n",
    "test   = pd.read_csv(path + 'test.csv')"
   ]
  },
  {
   "cell_type": "code",
   "execution_count": 3,
   "metadata": {},
   "outputs": [
    {
     "data": {
      "text/html": [
       "<div>\n",
       "<style scoped>\n",
       "    .dataframe tbody tr th:only-of-type {\n",
       "        vertical-align: middle;\n",
       "    }\n",
       "\n",
       "    .dataframe tbody tr th {\n",
       "        vertical-align: top;\n",
       "    }\n",
       "\n",
       "    .dataframe thead th {\n",
       "        text-align: right;\n",
       "    }\n",
       "</style>\n",
       "<table border=\"1\" class=\"dataframe\">\n",
       "  <thead>\n",
       "    <tr style=\"text-align: right;\">\n",
       "      <th></th>\n",
       "      <th>train_id</th>\n",
       "      <th>comment</th>\n",
       "      <th>sentiment</th>\n",
       "    </tr>\n",
       "  </thead>\n",
       "  <tbody>\n",
       "    <tr>\n",
       "      <th>0</th>\n",
       "      <td>bbe0f441-b2fc-461a-9618-e3a7eb9cb6b7</td>\n",
       "      <td>Habari @telecom1_TZ naomba kujua kama kuna hud...</td>\n",
       "      <td>-1</td>\n",
       "    </tr>\n",
       "    <tr>\n",
       "      <th>1</th>\n",
       "      <td>81b3b16d-8bf0-4d46-9b68-d7ffb078d108</td>\n",
       "      <td>@telecom3_tanzania Hivi telecom3 mnatuchukulia...</td>\n",
       "      <td>-1</td>\n",
       "    </tr>\n",
       "    <tr>\n",
       "      <th>2</th>\n",
       "      <td>f4785623-6bb9-49de-b905-25911a66f1d3</td>\n",
       "      <td>@telecom2 wamupunguza vifurushi vya internet k...</td>\n",
       "      <td>0</td>\n",
       "    </tr>\n",
       "    <tr>\n",
       "      <th>3</th>\n",
       "      <td>0ec5ec2b-0811-4b1d-be70-9cc0c137159a</td>\n",
       "      <td>@telecom2 Kwenye huduma1 nimewakubali sana sem...</td>\n",
       "      <td>-1</td>\n",
       "    </tr>\n",
       "    <tr>\n",
       "      <th>4</th>\n",
       "      <td>40082169-ebd0-4ca9-b0d3-c46ac949e034</td>\n",
       "      <td>@IdrisSultan vip kuhusu hawa mzee.\\n   Umefiki...</td>\n",
       "      <td>0</td>\n",
       "    </tr>\n",
       "  </tbody>\n",
       "</table>\n",
       "</div>"
      ],
      "text/plain": [
       "                               train_id  \\\n",
       "0  bbe0f441-b2fc-461a-9618-e3a7eb9cb6b7   \n",
       "1  81b3b16d-8bf0-4d46-9b68-d7ffb078d108   \n",
       "2  f4785623-6bb9-49de-b905-25911a66f1d3   \n",
       "3  0ec5ec2b-0811-4b1d-be70-9cc0c137159a   \n",
       "4  40082169-ebd0-4ca9-b0d3-c46ac949e034   \n",
       "\n",
       "                                             comment  sentiment  \n",
       "0  Habari @telecom1_TZ naomba kujua kama kuna hud...         -1  \n",
       "1  @telecom3_tanzania Hivi telecom3 mnatuchukulia...         -1  \n",
       "2  @telecom2 wamupunguza vifurushi vya internet k...          0  \n",
       "3  @telecom2 Kwenye huduma1 nimewakubali sana sem...         -1  \n",
       "4  @IdrisSultan vip kuhusu hawa mzee.\\n   Umefiki...          0  "
      ]
     },
     "execution_count": 3,
     "metadata": {},
     "output_type": "execute_result"
    }
   ],
   "source": [
    "# inspect training data\n",
    "train.head()"
   ]
  },
  {
   "cell_type": "code",
   "execution_count": 4,
   "metadata": {},
   "outputs": [
    {
     "data": {
      "text/plain": [
       "<AxesSubplot:>"
      ]
     },
     "execution_count": 4,
     "metadata": {},
     "output_type": "execute_result"
    },
    {
     "data": {
      "image/png": "[encoded data removed]",
      "text/plain": [
       "<Figure size 640x480 with 1 Axes>"
      ]
     },
     "metadata": {},
     "output_type": "display_data"
    }
   ],
   "source": [
    "# plot count of sentiments\n",
    "train.sentiment.value_counts().plot(kind='bar')"
   ]
  },
  {
   "cell_type": "code",
   "execution_count": 5,
   "metadata": {},
   "outputs": [
    {
     "data": {
      "text/html": [
       "<div>\n",
       "<style scoped>\n",
       "    .dataframe tbody tr th:only-of-type {\n",
       "        vertical-align: middle;\n",
       "    }\n",
       "\n",
       "    .dataframe tbody tr th {\n",
       "        vertical-align: top;\n",
       "    }\n",
       "\n",
       "    .dataframe thead th {\n",
       "        text-align: right;\n",
       "    }\n",
       "</style>\n",
       "<table border=\"1\" class=\"dataframe\">\n",
       "  <thead>\n",
       "    <tr style=\"text-align: right;\">\n",
       "      <th></th>\n",
       "      <th>test_id</th>\n",
       "      <th>comment</th>\n",
       "    </tr>\n",
       "  </thead>\n",
       "  <tbody>\n",
       "    <tr>\n",
       "      <th>0</th>\n",
       "      <td>53bb8dff-4a07-4aac-a6f2-ca552389652c</td>\n",
       "      <td>huduma1 wamenitext et wameniona mataa😣</td>\n",
       "    </tr>\n",
       "    <tr>\n",
       "      <th>1</th>\n",
       "      <td>a01e1c68-2f77-4073-87c5-d7e5d75c8a79</td>\n",
       "      <td>@telecom1_TZ @telecom3Tanzania Na mtuue sasa</td>\n",
       "    </tr>\n",
       "    <tr>\n",
       "      <th>2</th>\n",
       "      <td>9a5e4b98-ac29-4138-bc28-fc878d5d8269</td>\n",
       "      <td>Hakuna mtandao wa simu unaoongoza kutuma messa...</td>\n",
       "    </tr>\n",
       "    <tr>\n",
       "      <th>3</th>\n",
       "      <td>9ef55f06-7748-4e02-85c7-fa3e46bb02dd</td>\n",
       "      <td>@Mwanzalimaa Itakuwa kaipenda no yako kaenda k...</td>\n",
       "    </tr>\n",
       "    <tr>\n",
       "      <th>4</th>\n",
       "      <td>d93b4084-3000-4026-bae0-ecb65564dbbd</td>\n",
       "      <td>@telecom1_TZ Mm Ni wakala wa usajili wa lain c...</td>\n",
       "    </tr>\n",
       "  </tbody>\n",
       "</table>\n",
       "</div>"
      ],
      "text/plain": [
       "                                test_id  \\\n",
       "0  53bb8dff-4a07-4aac-a6f2-ca552389652c   \n",
       "1  a01e1c68-2f77-4073-87c5-d7e5d75c8a79   \n",
       "2  9a5e4b98-ac29-4138-bc28-fc878d5d8269   \n",
       "3  9ef55f06-7748-4e02-85c7-fa3e46bb02dd   \n",
       "4  d93b4084-3000-4026-bae0-ecb65564dbbd   \n",
       "\n",
       "                                             comment  \n",
       "0             huduma1 wamenitext et wameniona mataa😣  \n",
       "1       @telecom1_TZ @telecom3Tanzania Na mtuue sasa  \n",
       "2  Hakuna mtandao wa simu unaoongoza kutuma messa...  \n",
       "3  @Mwanzalimaa Itakuwa kaipenda no yako kaenda k...  \n",
       "4  @telecom1_TZ Mm Ni wakala wa usajili wa lain c...  "
      ]
     },
     "execution_count": 5,
     "metadata": {},
     "output_type": "execute_result"
    }
   ],
   "source": [
    "# inspect test data\n",
    "test.head()"
   ]
  },
  {
   "cell_type": "code",
   "execution_count": 6,
   "metadata": {},
   "outputs": [],
   "source": [
    "# data cleaning\n",
    "\n",
    "# Remove duplicate rows\n",
    "train = train.drop_duplicates()"
   ]
  },
  {
   "cell_type": "code",
   "execution_count": 7,
   "metadata": {},
   "outputs": [],
   "source": [
    "# Remove rows with missing values\n",
    "train = train.dropna()"
   ]
  },
  {
   "cell_type": "code",
   "execution_count": 8,
   "metadata": {},
   "outputs": [],
   "source": [
    "import re\n",
    "\n",
    "def clean_text(text):\n",
    "    # Remove special characters, punctuation, and non-Swahili characters\n",
    "    text = re.sub(r\"[^a-zA-Z0-9 \\-]\", \"\", text)\n",
    "    \n",
    "    # Remove URLs\n",
    "    text = re.sub(r\"http\\S+|www\\S+|https\\S+\", \"\", text)\n",
    "    # Remove HTML tags (if available)\n",
    "    text = re.sub(r\"<.*?>\", \"\", text)\n",
    "    # Normalize whitespace\n",
    "    text = re.sub(r\"\\s+\", \" \", text).strip()\n",
    "    # remove numbers\n",
    "    text = re.sub(r'\\b\\d+(?:\\.\\d+)?\\s+', '', text) \n",
    "    text = re.sub(r\"\\d\", \"\", text)\n",
    "    # set in lowercase\n",
    "    text = text.lower()   \n",
    "    \n",
    "    # Remove consecutive duplicate characters (e.g., 'loooove' to 'love')\n",
    "    text = re.sub(r\"(.)\\1+\", r\"\\1\", text)\n",
    "    \n",
    "    return text\n",
    "\n",
    "# Apply text cleaning to the 'text' column\n",
    "train['comment'] = train['comment'].apply(clean_text)"
   ]
  },
  {
   "cell_type": "code",
   "execution_count": 9,
   "metadata": {},
   "outputs": [
    {
     "data": {
      "text/html": [
       "<div>\n",
       "<style scoped>\n",
       "    .dataframe tbody tr th:only-of-type {\n",
       "        vertical-align: middle;\n",
       "    }\n",
       "\n",
       "    .dataframe tbody tr th {\n",
       "        vertical-align: top;\n",
       "    }\n",
       "\n",
       "    .dataframe thead th {\n",
       "        text-align: right;\n",
       "    }\n",
       "</style>\n",
       "<table border=\"1\" class=\"dataframe\">\n",
       "  <thead>\n",
       "    <tr style=\"text-align: right;\">\n",
       "      <th></th>\n",
       "      <th>train_id</th>\n",
       "      <th>comment</th>\n",
       "      <th>sentiment</th>\n",
       "    </tr>\n",
       "  </thead>\n",
       "  <tbody>\n",
       "    <tr>\n",
       "      <th>0</th>\n",
       "      <td>bbe0f441-b2fc-461a-9618-e3a7eb9cb6b7</td>\n",
       "      <td>habari telecomtz naomba kujua kama kuna huduma...</td>\n",
       "      <td>-1</td>\n",
       "    </tr>\n",
       "    <tr>\n",
       "      <th>1</th>\n",
       "      <td>81b3b16d-8bf0-4d46-9b68-d7ffb078d108</td>\n",
       "      <td>telecomtanzania hivi telecom mnatuchukuliaje y...</td>\n",
       "      <td>-1</td>\n",
       "    </tr>\n",
       "    <tr>\n",
       "      <th>2</th>\n",
       "      <td>f4785623-6bb9-49de-b905-25911a66f1d3</td>\n",
       "      <td>telecom wamupunguza vifurushi vya internet kim...</td>\n",
       "      <td>0</td>\n",
       "    </tr>\n",
       "    <tr>\n",
       "      <th>3</th>\n",
       "      <td>0ec5ec2b-0811-4b1d-be70-9cc0c137159a</td>\n",
       "      <td>telecom kwenye huduma nimewakubali sana sema i...</td>\n",
       "      <td>-1</td>\n",
       "    </tr>\n",
       "    <tr>\n",
       "      <th>4</th>\n",
       "      <td>40082169-ebd0-4ca9-b0d3-c46ac949e034</td>\n",
       "      <td>idrisultan vip kuhusu hawa mze umefikia ya mat...</td>\n",
       "      <td>0</td>\n",
       "    </tr>\n",
       "  </tbody>\n",
       "</table>\n",
       "</div>"
      ],
      "text/plain": [
       "                               train_id  \\\n",
       "0  bbe0f441-b2fc-461a-9618-e3a7eb9cb6b7   \n",
       "1  81b3b16d-8bf0-4d46-9b68-d7ffb078d108   \n",
       "2  f4785623-6bb9-49de-b905-25911a66f1d3   \n",
       "3  0ec5ec2b-0811-4b1d-be70-9cc0c137159a   \n",
       "4  40082169-ebd0-4ca9-b0d3-c46ac949e034   \n",
       "\n",
       "                                             comment  sentiment  \n",
       "0  habari telecomtz naomba kujua kama kuna huduma...         -1  \n",
       "1  telecomtanzania hivi telecom mnatuchukuliaje y...         -1  \n",
       "2  telecom wamupunguza vifurushi vya internet kim...          0  \n",
       "3  telecom kwenye huduma nimewakubali sana sema i...         -1  \n",
       "4  idrisultan vip kuhusu hawa mze umefikia ya mat...          0  "
      ]
     },
     "execution_count": 9,
     "metadata": {},
     "output_type": "execute_result"
    }
   ],
   "source": [
    "train.head() # preview data again"
   ]
  },
  {
   "cell_type": "code",
   "execution_count": 10,
   "metadata": {},
   "outputs": [
    {
     "name": "stderr",
     "output_type": "stream",
     "text": [
      "C:\\Users\\Edgar\\AppData\\Local\\Temp\\ipykernel_6392\\388942368.py:11: FutureWarning: The frame.append method is deprecated and will be removed from pandas in a future version. Use pandas.concat instead.\n",
      "  train_data = train_data.append(sentiment_data[:n_samples])\n",
      "C:\\Users\\Edgar\\AppData\\Local\\Temp\\ipykernel_6392\\388942368.py:12: FutureWarning: The frame.append method is deprecated and will be removed from pandas in a future version. Use pandas.concat instead.\n",
      "  test_data = test_data.append(sentiment_data[n_samples:])\n",
      "C:\\Users\\Edgar\\AppData\\Local\\Temp\\ipykernel_6392\\388942368.py:11: FutureWarning: The frame.append method is deprecated and will be removed from pandas in a future version. Use pandas.concat instead.\n",
      "  train_data = train_data.append(sentiment_data[:n_samples])\n",
      "C:\\Users\\Edgar\\AppData\\Local\\Temp\\ipykernel_6392\\388942368.py:12: FutureWarning: The frame.append method is deprecated and will be removed from pandas in a future version. Use pandas.concat instead.\n",
      "  test_data = test_data.append(sentiment_data[n_samples:])\n",
      "C:\\Users\\Edgar\\AppData\\Local\\Temp\\ipykernel_6392\\388942368.py:11: FutureWarning: The frame.append method is deprecated and will be removed from pandas in a future version. Use pandas.concat instead.\n",
      "  train_data = train_data.append(sentiment_data[:n_samples])\n",
      "C:\\Users\\Edgar\\AppData\\Local\\Temp\\ipykernel_6392\\388942368.py:12: FutureWarning: The frame.append method is deprecated and will be removed from pandas in a future version. Use pandas.concat instead.\n",
      "  test_data = test_data.append(sentiment_data[n_samples:])\n"
     ]
    }
   ],
   "source": [
    "train = train.sample(frac=1, random_state=42)\n",
    "\n",
    "# Split the dataset into train and test sets\n",
    "train_data = pd.DataFrame()\n",
    "test_data = pd.DataFrame()\n",
    "\n",
    "# Select 80% of each sentiment class for training\n",
    "for sentiment in [-1, 0, 1]:\n",
    "    sentiment_data = train[train['sentiment'] == sentiment]\n",
    "    n_samples = int(0.8 * len(sentiment_data))\n",
    "    train_data = train_data.append(sentiment_data[:n_samples])\n",
    "    test_data = test_data.append(sentiment_data[n_samples:])\n",
    "\n",
    "# Shuffle the train and test sets again\n",
    "train_data = train_data.sample(frac=1, random_state=42)\n",
    "test_data = test_data.sample(frac=1, random_state=42)\n"
   ]
  },
  {
   "cell_type": "code",
   "execution_count": 11,
   "metadata": {},
   "outputs": [],
   "source": [
    "# Initialize the tokenizer\n",
    "tokenizer = Tokenizer()\n",
    "# Specify the maximum number of words to be used\n",
    "max_sequence_length = 64\n",
    "# Fit the tokenizer on the training data\n",
    "tokenizer.fit_on_texts(train_data['comment'])\n",
    "\n",
    "# Convert training texts to sequences of tokens\n",
    "train_sequences = tokenizer.texts_to_sequences(train_data['comment'])\n",
    "# Pad training sequences to ensure uniform length\n",
    "train_padded_sequences = pad_sequences(train_sequences, maxlen=max_sequence_length)\n",
    "\n",
    "# Convert testing texts to sequences of tokens\n",
    "test_sequences = tokenizer.texts_to_sequences(test_data['comment'])\n",
    "# Pad testing sequences to ensure uniform length\n",
    "test_padded_sequences = pad_sequences(test_sequences, maxlen=max_sequence_length)\n"
   ]
  },
  {
   "cell_type": "code",
   "execution_count": 12,
   "metadata": {},
   "outputs": [
    {
     "data": {
      "text/html": [
       "<div>\n",
       "<style scoped>\n",
       "    .dataframe tbody tr th:only-of-type {\n",
       "        vertical-align: middle;\n",
       "    }\n",
       "\n",
       "    .dataframe tbody tr th {\n",
       "        vertical-align: top;\n",
       "    }\n",
       "\n",
       "    .dataframe thead th {\n",
       "        text-align: right;\n",
       "    }\n",
       "</style>\n",
       "<table border=\"1\" class=\"dataframe\">\n",
       "  <thead>\n",
       "    <tr style=\"text-align: right;\">\n",
       "      <th></th>\n",
       "      <th>train_id</th>\n",
       "      <th>comment</th>\n",
       "      <th>sentiment</th>\n",
       "    </tr>\n",
       "  </thead>\n",
       "  <tbody>\n",
       "    <tr>\n",
       "      <th>2327</th>\n",
       "      <td>8e65fcb6-e780-4d55-b9d4-5726101a94b9</td>\n",
       "      <td>telecom kupiga simu na matumizi ya intaneti</td>\n",
       "      <td>0</td>\n",
       "    </tr>\n",
       "    <tr>\n",
       "      <th>2690</th>\n",
       "      <td>941c2b47-d6d9-4d8f-b1ab-b857764c94a6</td>\n",
       "      <td>telecomtz mtandao wenu umekua wa kichoko yani ...</td>\n",
       "      <td>0</td>\n",
       "    </tr>\n",
       "    <tr>\n",
       "      <th>317</th>\n",
       "      <td>b408f166-dc99-4a44-bef5-71a3ba217c1e</td>\n",
       "      <td>huduma muwe kama m pawa mtu mpaka mtu alipe mw...</td>\n",
       "      <td>-1</td>\n",
       "    </tr>\n",
       "    <tr>\n",
       "      <th>1998</th>\n",
       "      <td>bca49ed0-60c6-4d1b-bd56-890be1902e7a</td>\n",
       "      <td>telecomtz simbasctanzania kuliko kununua kwa t...</td>\n",
       "      <td>-1</td>\n",
       "    </tr>\n",
       "    <tr>\n",
       "      <th>392</th>\n",
       "      <td>fa754dd2-e25f-48b8-8ed6-ef1d8aea60b1</td>\n",
       "      <td>tulialfreda you know i wil use this against yo...</td>\n",
       "      <td>0</td>\n",
       "    </tr>\n",
       "  </tbody>\n",
       "</table>\n",
       "</div>"
      ],
      "text/plain": [
       "                                  train_id  \\\n",
       "2327  8e65fcb6-e780-4d55-b9d4-5726101a94b9   \n",
       "2690  941c2b47-d6d9-4d8f-b1ab-b857764c94a6   \n",
       "317   b408f166-dc99-4a44-bef5-71a3ba217c1e   \n",
       "1998  bca49ed0-60c6-4d1b-bd56-890be1902e7a   \n",
       "392   fa754dd2-e25f-48b8-8ed6-ef1d8aea60b1   \n",
       "\n",
       "                                                comment  sentiment  \n",
       "2327        telecom kupiga simu na matumizi ya intaneti          0  \n",
       "2690  telecomtz mtandao wenu umekua wa kichoko yani ...          0  \n",
       "317   huduma muwe kama m pawa mtu mpaka mtu alipe mw...         -1  \n",
       "1998  telecomtz simbasctanzania kuliko kununua kwa t...         -1  \n",
       "392   tulialfreda you know i wil use this against yo...          0  "
      ]
     },
     "execution_count": 12,
     "metadata": {},
     "output_type": "execute_result"
    }
   ],
   "source": [
    "vocab_size = len(tokenizer.word_index) + 1\n",
    "\n",
    "test_data.head()"
   ]
  },
  {
   "cell_type": "code",
   "execution_count": 13,
   "metadata": {},
   "outputs": [],
   "source": [
    "num_classes = 3  # Number of sentiment classes\n",
    "sentiment_mapping = {-1: 0, 0: 1, 1: 2}\n",
    "\n",
    "# Convert the sentiment labels to one-hot encoded vectors for training data\n",
    "train_one_hot_labels = np.zeros((len(train_data), num_classes))\n",
    "for i, sentiment in enumerate(train_data['sentiment']):\n",
    "    index = sentiment_mapping[sentiment]\n",
    "    train_one_hot_labels[i, index] = 1\n",
    "\n",
    "# Convert the sentiment labels to one-hot encoded vectors for testing data\n",
    "test_one_hot_labels = np.zeros((len(test_data), num_classes))\n",
    "for i, sentiment in enumerate(test_data['sentiment']):\n",
    "    index_ = sentiment_mapping[sentiment]\n",
    "    test_one_hot_labels[i, index_] = 1\n"
   ]
  },
  {
   "cell_type": "code",
   "execution_count": 14,
   "metadata": {},
   "outputs": [
    {
     "data": {
      "text/plain": [
       "((626, 64), (2497, 64), (2497, 3), (626, 3))"
      ]
     },
     "execution_count": 14,
     "metadata": {},
     "output_type": "execute_result"
    }
   ],
   "source": [
    "test_padded_sequences.shape, train_padded_sequences.shape, train_one_hot_labels.shape, test_one_hot_labels.shape"
   ]
  },
  {
   "cell_type": "code",
   "execution_count": 15,
   "metadata": {},
   "outputs": [],
   "source": [
    "from keras_tuner import HyperModel, RandomSearch\n",
    "from keras_tuner.engine.hyperparameters import HyperParameters\n",
    "\n",
    "# Define the hypermodel\n",
    "class SentimentAnalysisHyperModel(HyperModel):\n",
    "    def __init__(self, vocab_size, max_sequence_length, small):\n",
    "        self.vocab_size = vocab_size\n",
    "        self.max_sequence_length = max_sequence_length\n",
    "        self.small = small\n",
    "    \n",
    "    def build(self, hp):\n",
    "        model = Sequential()\n",
    "        if not self.small:\n",
    "            model.add(Embedding(self.vocab_size, 136, input_length=self.max_sequence_length))\n",
    "            model.add(LSTM(128, return_sequences=True))\n",
    "            model.add(LSTM(102))\n",
    "            model.add(Dense(hp.Int('layer_units', min_value=96, max_value=128, step=32), activation='relu'))\n",
    "            model.add(Dropout(0.2))\n",
    "            model.add(Dense(3, activation='softmax'))\n",
    "        else:\n",
    "            model.add(Embedding(len(tokenizer.word_index) + 1, 128, input_length=max_sequence_length))\n",
    "            model.add(LSTM(hp.Int('layer_units', min_value=96, max_value=128, step=32), dropout=0.2, recurrent_dropout=0.2))\n",
    "            model.add(Dense(3, activation='softmax'))\n",
    "            \n",
    "        model.compile(\n",
    "            loss='categorical_crossentropy',\n",
    "            optimizer=keras.optimizers.Adam(1e-4),\n",
    "            metrics=['accuracy']\n",
    "        )\n",
    "        return model\n",
    "\n",
    "\n"
   ]
  },
  {
   "cell_type": "code",
   "execution_count": 16,
   "metadata": {},
   "outputs": [
    {
     "name": "stdout",
     "output_type": "stream",
     "text": [
      "Trial 2 Complete [00h 08m 36s]\n",
      "val_accuracy: 0.5367411971092224\n",
      "\n",
      "Best val_accuracy So Far: 0.5367411971092224\n",
      "Total elapsed time: 00h 16m 03s\n",
      "INFO:tensorflow:Oracle triggered exit\n"
     ]
    }
   ],
   "source": [
    "# Define the hyperparameters search space\n",
    "hypermodel = SentimentAnalysisHyperModel(vocab_size, max_sequence_length, True)\n",
    "hyperparameters = HyperParameters()\n",
    "hyperparameters.Int('layer_units', min_value=96, max_value=128, step=32)\n",
    "\n",
    "# Perform random search hyperparameter tuning\n",
    "tuner = RandomSearch(\n",
    "    hypermodel,\n",
    "    objective='val_accuracy',\n",
    "    max_trials=10,\n",
    "    directory='hyperparameter_tuning',\n",
    "    project_name='swahili_sentiment_analysis_small'\n",
    ")\n",
    "\n",
    "tuner.search(train_padded_sequences, train_one_hot_labels, validation_data=(test_padded_sequences, test_one_hot_labels), batch_size=4, epochs=5)\n",
    "\n",
    "# Get the best hyperparameters\n",
    "best_hyperparameters = tuner.get_best_hyperparameters(num_trials=1)[0]\n",
    "best_model = tuner.hypermodel.build(best_hyperparameters)"
   ]
  },
  {
   "cell_type": "code",
   "execution_count": 17,
   "metadata": {},
   "outputs": [
    {
     "name": "stdout",
     "output_type": "stream",
     "text": [
      "Epoch 1/5\n",
      "625/625 [==============================] - 117s 182ms/step - loss: 1.0141 - accuracy: 0.4842 - val_loss: 0.9846 - val_accuracy: 0.4856\n",
      "Epoch 2/5\n",
      "625/625 [==============================] - 117s 186ms/step - loss: 0.9693 - accuracy: 0.5002 - val_loss: 0.9690 - val_accuracy: 0.5112\n",
      "Epoch 3/5\n",
      "625/625 [==============================] - 105s 168ms/step - loss: 0.8729 - accuracy: 0.6288 - val_loss: 0.9602 - val_accuracy: 0.5064\n",
      "Epoch 4/5\n",
      "625/625 [==============================] - 109s 174ms/step - loss: 0.7043 - accuracy: 0.7161 - val_loss: 0.9870 - val_accuracy: 0.5064\n",
      "Epoch 5/5\n",
      "625/625 [==============================] - 142s 227ms/step - loss: 0.5339 - accuracy: 0.7893 - val_loss: 1.0317 - val_accuracy: 0.5032\n"
     ]
    }
   ],
   "source": [
    "history = best_model.fit(train_padded_sequences, train_one_hot_labels, validation_data=(test_padded_sequences, test_one_hot_labels), batch_size=4, epochs=5)"
   ]
  },
  {
   "cell_type": "code",
   "execution_count": 18,
   "metadata": {},
   "outputs": [
    {
     "data": {
      "image/png": "[encoded data removed]",
      "text/plain": [
       "<Figure size 1500x500 with 1 Axes>"
      ]
     },
     "metadata": {},
     "output_type": "display_data"
    }
   ],
   "source": [
    "# plot accuracy and loss on training and validation sets\n",
    "import matplotlib.pyplot as plt\n",
    "\n",
    "plt.figure(figsize=(15,5))\n",
    "plt.plot(history.history['accuracy'])\n",
    "plt.plot(history.history['val_accuracy'])\n",
    "plt.title('model accuracy')\n",
    "plt.ylabel('accuracy')\n",
    "plt.xlabel('epoch')\n",
    "plt.legend(['train', 'val'], loc='upper left')\n",
    "plt.show()\n"
   ]
  },
  {
   "cell_type": "code",
   "execution_count": 32,
   "metadata": {},
   "outputs": [],
   "source": [
    "def classify(text, model, tokenizer, max_sequence_length):\n",
    "    text = clean_text(text)\n",
    "    # tokenize and pad text\n",
    "    text_sequences = tokenizer.texts_to_sequences([text])\n",
    "    # Pad training sequences to ensure uniform length\n",
    "    text_padded_sequences = pad_sequences(text_sequences, maxlen=max_sequence_length)\n",
    "    predicted_sentiment = model.predict(text_padded_sequences)\n",
    "\n",
    "    # Convert the prediction probabilities to sentiment labels\n",
    "    sentiment_labels = [-1, 0, 1]  \n",
    "    predicted_result = sentiment_labels[np.argmax(predicted_sentiment)]\n",
    "    return predicted_result"
   ]
  },
  {
   "cell_type": "code",
   "execution_count": 50,
   "metadata": {},
   "outputs": [
    {
     "name": "stdout",
     "output_type": "stream",
     "text": [
      "1/1 [==============================] - 0s 88ms/step\n"
     ]
    },
    {
     "data": {
      "text/plain": [
       "-1"
      ]
     },
     "execution_count": 50,
     "metadata": {},
     "output_type": "execute_result"
    }
   ],
   "source": [
    "msg = \"Nilikua sijui kama tozo inaumiza hivi  Leo nimetoa pesa kwa telecom1pesa nimekatwa roho imeniuma kichizðð\"\n",
    "sentiment_result = classify(msg, best_model, tokenizer, max_sequence_length)\n",
    "sentiment_result"
   ]
  },
  {
   "cell_type": "code",
   "execution_count": 52,
   "metadata": {},
   "outputs": [],
   "source": [
    "# save the model\n",
    "best_model.save(\"model/hyper_tunned_swahili_sentiment_rating.h5\")\n",
    "\n",
    "#save tokenizer\n",
    "tokenizer_json = tokenizer.to_json()\n",
    "with open('tokenizers/hyper_tunned_swahili_sentiment_rating.json', 'w', encoding='utf-8') as f:\n",
    "    f.write(tokenizer_json)"
   ]
  },
  {
   "cell_type": "code",
   "execution_count": null,
   "metadata": {},
   "outputs": [],
   "source": [
    "test['sentiment'] = test['comment'].apply(lambda x: classify(x, best_model, tokenizer, max_sequence_length))"
   ]
  }
 ],
 "metadata": {
  "kernelspec": {
   "display_name": "Python 3",
   "language": "python",
   "name": "python3"
  },
  "language_info": {
   "codemirror_mode": {
    "name": "ipython",
    "version": 3
   },
   "file_extension": ".py",
   "mimetype": "text/x-python",
   "name": "python",
   "nbconvert_exporter": "python",
   "pygments_lexer": "ipython3",
   "version": "3.10.6"
  },
  "orig_nbformat": 4
 },
 "nbformat": 4,
 "nbformat_minor": 2
}
