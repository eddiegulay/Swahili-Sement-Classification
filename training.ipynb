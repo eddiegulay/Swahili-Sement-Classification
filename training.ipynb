{
 "cells": [
  {
   "cell_type": "code",
   "execution_count": 1,
   "metadata": {},
   "outputs": [],
   "source": [
    "# load libraries\n",
    "\n",
    "import pandas  as pd"
   ]
  },
  {
   "cell_type": "code",
   "execution_count": 5,
   "metadata": {},
   "outputs": [],
   "source": [
    "# load data from assets folder\n",
    "path = 'assets/'\n",
    "train  = pd.read_csv(path + 'train.csv')\n",
    "test   = pd.read_csv(path + 'test.csv')"
   ]
  },
  {
   "cell_type": "code",
   "execution_count": 6,
   "metadata": {},
   "outputs": [
    {
     "data": {
      "text/html": [
       "<div>\n",
       "<style scoped>\n",
       "    .dataframe tbody tr th:only-of-type {\n",
       "        vertical-align: middle;\n",
       "    }\n",
       "\n",
       "    .dataframe tbody tr th {\n",
       "        vertical-align: top;\n",
       "    }\n",
       "\n",
       "    .dataframe thead th {\n",
       "        text-align: right;\n",
       "    }\n",
       "</style>\n",
       "<table border=\"1\" class=\"dataframe\">\n",
       "  <thead>\n",
       "    <tr style=\"text-align: right;\">\n",
       "      <th></th>\n",
       "      <th>train_id</th>\n",
       "      <th>comment</th>\n",
       "      <th>sentiment</th>\n",
       "    </tr>\n",
       "  </thead>\n",
       "  <tbody>\n",
       "    <tr>\n",
       "      <th>0</th>\n",
       "      <td>bbe0f441-b2fc-461a-9618-e3a7eb9cb6b7</td>\n",
       "      <td>Habari @telecom1_TZ naomba kujua kama kuna hud...</td>\n",
       "      <td>-1</td>\n",
       "    </tr>\n",
       "    <tr>\n",
       "      <th>1</th>\n",
       "      <td>81b3b16d-8bf0-4d46-9b68-d7ffb078d108</td>\n",
       "      <td>@telecom3_tanzania Hivi telecom3 mnatuchukulia...</td>\n",
       "      <td>-1</td>\n",
       "    </tr>\n",
       "    <tr>\n",
       "      <th>2</th>\n",
       "      <td>f4785623-6bb9-49de-b905-25911a66f1d3</td>\n",
       "      <td>@telecom2 wamupunguza vifurushi vya internet k...</td>\n",
       "      <td>0</td>\n",
       "    </tr>\n",
       "    <tr>\n",
       "      <th>3</th>\n",
       "      <td>0ec5ec2b-0811-4b1d-be70-9cc0c137159a</td>\n",
       "      <td>@telecom2 Kwenye huduma1 nimewakubali sana sem...</td>\n",
       "      <td>-1</td>\n",
       "    </tr>\n",
       "    <tr>\n",
       "      <th>4</th>\n",
       "      <td>40082169-ebd0-4ca9-b0d3-c46ac949e034</td>\n",
       "      <td>@IdrisSultan vip kuhusu hawa mzee.\\n   Umefiki...</td>\n",
       "      <td>0</td>\n",
       "    </tr>\n",
       "  </tbody>\n",
       "</table>\n",
       "</div>"
      ],
      "text/plain": [
       "                               train_id  \\\n",
       "0  bbe0f441-b2fc-461a-9618-e3a7eb9cb6b7   \n",
       "1  81b3b16d-8bf0-4d46-9b68-d7ffb078d108   \n",
       "2  f4785623-6bb9-49de-b905-25911a66f1d3   \n",
       "3  0ec5ec2b-0811-4b1d-be70-9cc0c137159a   \n",
       "4  40082169-ebd0-4ca9-b0d3-c46ac949e034   \n",
       "\n",
       "                                             comment  sentiment  \n",
       "0  Habari @telecom1_TZ naomba kujua kama kuna hud...         -1  \n",
       "1  @telecom3_tanzania Hivi telecom3 mnatuchukulia...         -1  \n",
       "2  @telecom2 wamupunguza vifurushi vya internet k...          0  \n",
       "3  @telecom2 Kwenye huduma1 nimewakubali sana sem...         -1  \n",
       "4  @IdrisSultan vip kuhusu hawa mzee.\\n   Umefiki...          0  "
      ]
     },
     "execution_count": 6,
     "metadata": {},
     "output_type": "execute_result"
    }
   ],
   "source": [
    "# inspect training data\n",
    "train.head()"
   ]
  },
  {
   "cell_type": "code",
   "execution_count": 7,
   "metadata": {},
   "outputs": [
    {
     "data": {
      "text/plain": [
       "<AxesSubplot:>"
      ]
     },
     "execution_count": 7,
     "metadata": {},
     "output_type": "execute_result"
    },
    {
     "data": {
      "image/png": "[encoded data removed]",
      "text/plain": [
       "<Figure size 640x480 with 1 Axes>"
      ]
     },
     "metadata": {},
     "output_type": "display_data"
    }
   ],
   "source": [
    "# plot count of sentiments\n",
    "train.sentiment.value_counts().plot(kind='bar')"
   ]
  },
  {
   "cell_type": "code",
   "execution_count": 9,
   "metadata": {},
   "outputs": [
    {
     "data": {
      "text/html": [
       "<div>\n",
       "<style scoped>\n",
       "    .dataframe tbody tr th:only-of-type {\n",
       "        vertical-align: middle;\n",
       "    }\n",
       "\n",
       "    .dataframe tbody tr th {\n",
       "        vertical-align: top;\n",
       "    }\n",
       "\n",
       "    .dataframe thead th {\n",
       "        text-align: right;\n",
       "    }\n",
       "</style>\n",
       "<table border=\"1\" class=\"dataframe\">\n",
       "  <thead>\n",
       "    <tr style=\"text-align: right;\">\n",
       "      <th></th>\n",
       "      <th>test_id</th>\n",
       "      <th>comment</th>\n",
       "    </tr>\n",
       "  </thead>\n",
       "  <tbody>\n",
       "    <tr>\n",
       "      <th>0</th>\n",
       "      <td>53bb8dff-4a07-4aac-a6f2-ca552389652c</td>\n",
       "      <td>huduma1 wamenitext et wameniona mataa😣</td>\n",
       "    </tr>\n",
       "    <tr>\n",
       "      <th>1</th>\n",
       "      <td>a01e1c68-2f77-4073-87c5-d7e5d75c8a79</td>\n",
       "      <td>@telecom1_TZ @telecom3Tanzania Na mtuue sasa</td>\n",
       "    </tr>\n",
       "    <tr>\n",
       "      <th>2</th>\n",
       "      <td>9a5e4b98-ac29-4138-bc28-fc878d5d8269</td>\n",
       "      <td>Hakuna mtandao wa simu unaoongoza kutuma messa...</td>\n",
       "    </tr>\n",
       "    <tr>\n",
       "      <th>3</th>\n",
       "      <td>9ef55f06-7748-4e02-85c7-fa3e46bb02dd</td>\n",
       "      <td>@Mwanzalimaa Itakuwa kaipenda no yako kaenda k...</td>\n",
       "    </tr>\n",
       "    <tr>\n",
       "      <th>4</th>\n",
       "      <td>d93b4084-3000-4026-bae0-ecb65564dbbd</td>\n",
       "      <td>@telecom1_TZ Mm Ni wakala wa usajili wa lain c...</td>\n",
       "    </tr>\n",
       "  </tbody>\n",
       "</table>\n",
       "</div>"
      ],
      "text/plain": [
       "                                test_id  \\\n",
       "0  53bb8dff-4a07-4aac-a6f2-ca552389652c   \n",
       "1  a01e1c68-2f77-4073-87c5-d7e5d75c8a79   \n",
       "2  9a5e4b98-ac29-4138-bc28-fc878d5d8269   \n",
       "3  9ef55f06-7748-4e02-85c7-fa3e46bb02dd   \n",
       "4  d93b4084-3000-4026-bae0-ecb65564dbbd   \n",
       "\n",
       "                                             comment  \n",
       "0             huduma1 wamenitext et wameniona mataa😣  \n",
       "1       @telecom1_TZ @telecom3Tanzania Na mtuue sasa  \n",
       "2  Hakuna mtandao wa simu unaoongoza kutuma messa...  \n",
       "3  @Mwanzalimaa Itakuwa kaipenda no yako kaenda k...  \n",
       "4  @telecom1_TZ Mm Ni wakala wa usajili wa lain c...  "
      ]
     },
     "execution_count": 9,
     "metadata": {},
     "output_type": "execute_result"
    }
   ],
   "source": [
    "# inspect test data\n",
    "test.head()"
   ]
  },
  {
   "cell_type": "code",
   "execution_count": 10,
   "metadata": {},
   "outputs": [],
   "source": [
    "# data cleaning\n",
    "\n",
    "# Remove duplicate rows\n",
    "train = train.drop_duplicates()"
   ]
  },
  {
   "cell_type": "code",
   "execution_count": 12,
   "metadata": {},
   "outputs": [],
   "source": [
    "# Remove rows with missing values\n",
    "train = train.dropna()"
   ]
  },
  {
   "cell_type": "code",
   "execution_count": 15,
   "metadata": {},
   "outputs": [],
   "source": [
    "import re\n",
    "\n",
    "def clean_text(text):\n",
    "    # Remove special characters, punctuation, and non-Swahili characters\n",
    "    text = re.sub(r\"[^a-zA-Z0-9 \\-]\", \"\", text)\n",
    "    \n",
    "    # Remove URLs\n",
    "    text = re.sub(r\"http\\S+|www\\S+|https\\S+\", \"\", text)\n",
    "    # Remove HTML tags (if available)\n",
    "    text = re.sub(r\"<.*?>\", \"\", text)\n",
    "    # Normalize whitespace\n",
    "    text = re.sub(r\"\\s+\", \" \", text).strip()\n",
    "    # remove numbers\n",
    "    text = re.sub(r'\\b\\d+(?:\\.\\d+)?\\s+', '', text) \n",
    "    text = re.sub(r\"\\d\", \"\", text)\n",
    "    # set in lowercase\n",
    "    text = text.lower()   \n",
    "    \n",
    "    # Remove consecutive duplicate characters (e.g., 'loooove' to 'love')\n",
    "    text = re.sub(r\"(.)\\1+\", r\"\\1\", text)\n",
    "    \n",
    "    return text\n",
    "\n",
    "# Apply text cleaning to the 'text' column\n",
    "train['comment'] = train['comment'].apply(clean_text)"
   ]
  },
  {
   "cell_type": "code",
   "execution_count": 16,
   "metadata": {},
   "outputs": [
    {
     "data": {
      "text/html": [
       "<div>\n",
       "<style scoped>\n",
       "    .dataframe tbody tr th:only-of-type {\n",
       "        vertical-align: middle;\n",
       "    }\n",
       "\n",
       "    .dataframe tbody tr th {\n",
       "        vertical-align: top;\n",
       "    }\n",
       "\n",
       "    .dataframe thead th {\n",
       "        text-align: right;\n",
       "    }\n",
       "</style>\n",
       "<table border=\"1\" class=\"dataframe\">\n",
       "  <thead>\n",
       "    <tr style=\"text-align: right;\">\n",
       "      <th></th>\n",
       "      <th>train_id</th>\n",
       "      <th>comment</th>\n",
       "      <th>sentiment</th>\n",
       "    </tr>\n",
       "  </thead>\n",
       "  <tbody>\n",
       "    <tr>\n",
       "      <th>0</th>\n",
       "      <td>bbe0f441-b2fc-461a-9618-e3a7eb9cb6b7</td>\n",
       "      <td>habari telecomtz naomba kujua kama kuna huduma...</td>\n",
       "      <td>-1</td>\n",
       "    </tr>\n",
       "    <tr>\n",
       "      <th>1</th>\n",
       "      <td>81b3b16d-8bf0-4d46-9b68-d7ffb078d108</td>\n",
       "      <td>telecomtanzania hivi telecom mnatuchukuliaje y...</td>\n",
       "      <td>-1</td>\n",
       "    </tr>\n",
       "    <tr>\n",
       "      <th>2</th>\n",
       "      <td>f4785623-6bb9-49de-b905-25911a66f1d3</td>\n",
       "      <td>telecom wamupunguza vifurushi vya internet kim...</td>\n",
       "      <td>0</td>\n",
       "    </tr>\n",
       "    <tr>\n",
       "      <th>3</th>\n",
       "      <td>0ec5ec2b-0811-4b1d-be70-9cc0c137159a</td>\n",
       "      <td>telecom kwenye huduma nimewakubali sana sema i...</td>\n",
       "      <td>-1</td>\n",
       "    </tr>\n",
       "    <tr>\n",
       "      <th>4</th>\n",
       "      <td>40082169-ebd0-4ca9-b0d3-c46ac949e034</td>\n",
       "      <td>idrisultan vip kuhusu hawa mze umefikia ya mat...</td>\n",
       "      <td>0</td>\n",
       "    </tr>\n",
       "  </tbody>\n",
       "</table>\n",
       "</div>"
      ],
      "text/plain": [
       "                               train_id  \\\n",
       "0  bbe0f441-b2fc-461a-9618-e3a7eb9cb6b7   \n",
       "1  81b3b16d-8bf0-4d46-9b68-d7ffb078d108   \n",
       "2  f4785623-6bb9-49de-b905-25911a66f1d3   \n",
       "3  0ec5ec2b-0811-4b1d-be70-9cc0c137159a   \n",
       "4  40082169-ebd0-4ca9-b0d3-c46ac949e034   \n",
       "\n",
       "                                             comment  sentiment  \n",
       "0  habari telecomtz naomba kujua kama kuna huduma...         -1  \n",
       "1  telecomtanzania hivi telecom mnatuchukuliaje y...         -1  \n",
       "2  telecom wamupunguza vifurushi vya internet kim...          0  \n",
       "3  telecom kwenye huduma nimewakubali sana sema i...         -1  \n",
       "4  idrisultan vip kuhusu hawa mze umefikia ya mat...          0  "
      ]
     },
     "execution_count": 16,
     "metadata": {},
     "output_type": "execute_result"
    }
   ],
   "source": [
    "train.head() # preview data again"
   ]
  },
  {
   "cell_type": "code",
   "execution_count": null,
   "metadata": {},
   "outputs": [],
   "source": []
  }
 ],
 "metadata": {
  "kernelspec": {
   "display_name": "Python 3",
   "language": "python",
   "name": "python3"
  },
  "language_info": {
   "codemirror_mode": {
    "name": "ipython",
    "version": 3
   },
   "file_extension": ".py",
   "mimetype": "text/x-python",
   "name": "python",
   "nbconvert_exporter": "python",
   "pygments_lexer": "ipython3",
   "version": "3.10.6"
  },
  "orig_nbformat": 4
 },
 "nbformat": 4,
 "nbformat_minor": 2
}
