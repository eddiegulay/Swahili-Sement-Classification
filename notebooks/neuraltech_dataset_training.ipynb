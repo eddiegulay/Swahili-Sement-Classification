{
 "cells": [
  {
   "cell_type": "code",
   "execution_count": null,
   "metadata": {},
   "outputs": [],
   "source": [
    "# !pip install -r requirements.txt"
   ]
  },
  {
   "cell_type": "code",
   "execution_count": 4,
   "metadata": {},
   "outputs": [],
   "source": [
    "# load libraries\n",
    "import pandas  as pd\n",
    "import numpy as np\n",
    "\n",
    "from tensorflow import keras\n",
    "from tensorflow.keras.preprocessing.text import Tokenizer\n",
    "from tensorflow.keras.preprocessing.sequence import pad_sequences\n",
    "\n",
    "from tensorflow.keras.models import Sequential\n",
    "from tensorflow.keras.layers import Embedding, LSTM, Dense, Dropout, Bidirectional"
   ]
  },
  {
   "cell_type": "code",
   "execution_count": 5,
   "metadata": {},
   "outputs": [],
   "source": [
    "# load data from assets folder\n",
    "path = 'assets/'\n",
    "train  = pd.read_csv(path + 'neural_tech_swahili_sentiment.csv')\n",
    "# test   = pd.read_csv(path + 'test.csv')"
   ]
  },
  {
   "cell_type": "code",
   "execution_count": 6,
   "metadata": {},
   "outputs": [
    {
     "data": {
      "text/html": [
       "<div>\n",
       "<style scoped>\n",
       "    .dataframe tbody tr th:only-of-type {\n",
       "        vertical-align: middle;\n",
       "    }\n",
       "\n",
       "    .dataframe tbody tr th {\n",
       "        vertical-align: top;\n",
       "    }\n",
       "\n",
       "    .dataframe thead th {\n",
       "        text-align: right;\n",
       "    }\n",
       "</style>\n",
       "<table border=\"1\" class=\"dataframe\">\n",
       "  <thead>\n",
       "    <tr style=\"text-align: right;\">\n",
       "      <th></th>\n",
       "      <th>id</th>\n",
       "      <th>text</th>\n",
       "      <th>labels</th>\n",
       "    </tr>\n",
       "  </thead>\n",
       "  <tbody>\n",
       "    <tr>\n",
       "      <th>0</th>\n",
       "      <td>0</td>\n",
       "      <td>team merimera alikuwa takataka</td>\n",
       "      <td>0</td>\n",
       "    </tr>\n",
       "    <tr>\n",
       "      <th>1</th>\n",
       "      <td>1</td>\n",
       "      <td>sijafurahishwa</td>\n",
       "      <td>0</td>\n",
       "    </tr>\n",
       "    <tr>\n",
       "      <th>2</th>\n",
       "      <td>2</td>\n",
       "      <td>kubuni dosari</td>\n",
       "      <td>0</td>\n",
       "    </tr>\n",
       "    <tr>\n",
       "      <th>3</th>\n",
       "      <td>3</td>\n",
       "      <td>bila kusema nilipoteza pesa zangu</td>\n",
       "      <td>0</td>\n",
       "    </tr>\n",
       "    <tr>\n",
       "      <th>4</th>\n",
       "      <td>4</td>\n",
       "      <td>sema kupoteza pesa na wakati</td>\n",
       "      <td>0</td>\n",
       "    </tr>\n",
       "  </tbody>\n",
       "</table>\n",
       "</div>"
      ],
      "text/plain": [
       "   id                               text  labels\n",
       "0   0     team merimera alikuwa takataka       0\n",
       "1   1                     sijafurahishwa       0\n",
       "2   2                      kubuni dosari       0\n",
       "3   3  bila kusema nilipoteza pesa zangu       0\n",
       "4   4       sema kupoteza pesa na wakati       0"
      ]
     },
     "execution_count": 6,
     "metadata": {},
     "output_type": "execute_result"
    }
   ],
   "source": [
    "# inspect training data\n",
    "train.head()"
   ]
  },
  {
   "cell_type": "code",
   "execution_count": 8,
   "metadata": {},
   "outputs": [],
   "source": [
    "train['comment'] = train['text']\n",
    "train['sentiment'] = train['labels']"
   ]
  },
  {
   "cell_type": "code",
   "execution_count": 9,
   "metadata": {},
   "outputs": [
    {
     "data": {
      "text/plain": [
       "<AxesSubplot:>"
      ]
     },
     "execution_count": 9,
     "metadata": {},
     "output_type": "execute_result"
    },
    {
     "data": {
      "image/png": "[encoded data removed]",
      "text/plain": [
       "<Figure size 640x480 with 1 Axes>"
      ]
     },
     "metadata": {},
     "output_type": "display_data"
    }
   ],
   "source": [
    "# plot count of sentiments\n",
    "train.sentiment.value_counts().plot(kind='bar')"
   ]
  },
  {
   "cell_type": "code",
   "execution_count": 11,
   "metadata": {},
   "outputs": [],
   "source": [
    "# data cleaning\n",
    "\n",
    "# Remove duplicate rows\n",
    "train = train.drop_duplicates()"
   ]
  },
  {
   "cell_type": "code",
   "execution_count": 12,
   "metadata": {},
   "outputs": [],
   "source": [
    "# Remove rows with missing values\n",
    "train = train.dropna()"
   ]
  },
  {
   "cell_type": "code",
   "execution_count": 13,
   "metadata": {},
   "outputs": [],
   "source": [
    "import re\n",
    "\n",
    "def clean_text(text):\n",
    "    # Remove special characters, punctuation, and non-Swahili characters\n",
    "    text = re.sub(r\"[^a-zA-Z0-9 \\-]\", \"\", text)\n",
    "    \n",
    "    # Remove URLs\n",
    "    text = re.sub(r\"http\\S+|www\\S+|https\\S+\", \"\", text)\n",
    "    # Remove HTML tags (if available)\n",
    "    text = re.sub(r\"<.*?>\", \"\", text)\n",
    "    # Normalize whitespace\n",
    "    text = re.sub(r\"\\s+\", \" \", text).strip()\n",
    "    # remove numbers\n",
    "    text = re.sub(r'\\b\\d+(?:\\.\\d+)?\\s+', '', text) \n",
    "    text = re.sub(r\"\\d\", \"\", text)\n",
    "    # set in lowercase\n",
    "    text = text.lower()   \n",
    "    \n",
    "    # Remove consecutive duplicate characters (e.g., 'loooove' to 'love')\n",
    "    text = re.sub(r\"(.)\\1+\", r\"\\1\", text)\n",
    "    \n",
    "    return text\n",
    "\n",
    "# Apply text cleaning to the 'text' column\n",
    "train['comment'] = train['comment'].apply(clean_text)"
   ]
  },
  {
   "cell_type": "code",
   "execution_count": 14,
   "metadata": {},
   "outputs": [
    {
     "data": {
      "text/html": [
       "<div>\n",
       "<style scoped>\n",
       "    .dataframe tbody tr th:only-of-type {\n",
       "        vertical-align: middle;\n",
       "    }\n",
       "\n",
       "    .dataframe tbody tr th {\n",
       "        vertical-align: top;\n",
       "    }\n",
       "\n",
       "    .dataframe thead th {\n",
       "        text-align: right;\n",
       "    }\n",
       "</style>\n",
       "<table border=\"1\" class=\"dataframe\">\n",
       "  <thead>\n",
       "    <tr style=\"text-align: right;\">\n",
       "      <th></th>\n",
       "      <th>id</th>\n",
       "      <th>text</th>\n",
       "      <th>labels</th>\n",
       "      <th>comment</th>\n",
       "      <th>sentiment</th>\n",
       "    </tr>\n",
       "  </thead>\n",
       "  <tbody>\n",
       "    <tr>\n",
       "      <th>0</th>\n",
       "      <td>0</td>\n",
       "      <td>team merimera alikuwa takataka</td>\n",
       "      <td>0</td>\n",
       "      <td>team merimera alikuwa takataka</td>\n",
       "      <td>0</td>\n",
       "    </tr>\n",
       "    <tr>\n",
       "      <th>1</th>\n",
       "      <td>1</td>\n",
       "      <td>sijafurahishwa</td>\n",
       "      <td>0</td>\n",
       "      <td>sijafurahishwa</td>\n",
       "      <td>0</td>\n",
       "    </tr>\n",
       "    <tr>\n",
       "      <th>2</th>\n",
       "      <td>2</td>\n",
       "      <td>kubuni dosari</td>\n",
       "      <td>0</td>\n",
       "      <td>kubuni dosari</td>\n",
       "      <td>0</td>\n",
       "    </tr>\n",
       "    <tr>\n",
       "      <th>3</th>\n",
       "      <td>3</td>\n",
       "      <td>bila kusema nilipoteza pesa zangu</td>\n",
       "      <td>0</td>\n",
       "      <td>bila kusema nilipoteza pesa zangu</td>\n",
       "      <td>0</td>\n",
       "    </tr>\n",
       "    <tr>\n",
       "      <th>4</th>\n",
       "      <td>4</td>\n",
       "      <td>sema kupoteza pesa na wakati</td>\n",
       "      <td>0</td>\n",
       "      <td>sema kupoteza pesa na wakati</td>\n",
       "      <td>0</td>\n",
       "    </tr>\n",
       "  </tbody>\n",
       "</table>\n",
       "</div>"
      ],
      "text/plain": [
       "   id                               text  labels  \\\n",
       "0   0     team merimera alikuwa takataka       0   \n",
       "1   1                     sijafurahishwa       0   \n",
       "2   2                      kubuni dosari       0   \n",
       "3   3  bila kusema nilipoteza pesa zangu       0   \n",
       "4   4       sema kupoteza pesa na wakati       0   \n",
       "\n",
       "                             comment  sentiment  \n",
       "0     team merimera alikuwa takataka          0  \n",
       "1                     sijafurahishwa          0  \n",
       "2                      kubuni dosari          0  \n",
       "3  bila kusema nilipoteza pesa zangu          0  \n",
       "4       sema kupoteza pesa na wakati          0  "
      ]
     },
     "execution_count": 14,
     "metadata": {},
     "output_type": "execute_result"
    }
   ],
   "source": [
    "train.head() # preview data again"
   ]
  },
  {
   "cell_type": "code",
   "execution_count": 15,
   "metadata": {},
   "outputs": [
    {
     "name": "stderr",
     "output_type": "stream",
     "text": [
      "C:\\Users\\Edgar\\AppData\\Local\\Temp\\ipykernel_9236\\388942368.py:11: FutureWarning: The frame.append method is deprecated and will be removed from pandas in a future version. Use pandas.concat instead.\n",
      "  train_data = train_data.append(sentiment_data[:n_samples])\n",
      "C:\\Users\\Edgar\\AppData\\Local\\Temp\\ipykernel_9236\\388942368.py:12: FutureWarning: The frame.append method is deprecated and will be removed from pandas in a future version. Use pandas.concat instead.\n",
      "  test_data = test_data.append(sentiment_data[n_samples:])\n",
      "C:\\Users\\Edgar\\AppData\\Local\\Temp\\ipykernel_9236\\388942368.py:11: FutureWarning: The frame.append method is deprecated and will be removed from pandas in a future version. Use pandas.concat instead.\n",
      "  train_data = train_data.append(sentiment_data[:n_samples])\n",
      "C:\\Users\\Edgar\\AppData\\Local\\Temp\\ipykernel_9236\\388942368.py:12: FutureWarning: The frame.append method is deprecated and will be removed from pandas in a future version. Use pandas.concat instead.\n",
      "  test_data = test_data.append(sentiment_data[n_samples:])\n",
      "C:\\Users\\Edgar\\AppData\\Local\\Temp\\ipykernel_9236\\388942368.py:11: FutureWarning: The frame.append method is deprecated and will be removed from pandas in a future version. Use pandas.concat instead.\n",
      "  train_data = train_data.append(sentiment_data[:n_samples])\n",
      "C:\\Users\\Edgar\\AppData\\Local\\Temp\\ipykernel_9236\\388942368.py:12: FutureWarning: The frame.append method is deprecated and will be removed from pandas in a future version. Use pandas.concat instead.\n",
      "  test_data = test_data.append(sentiment_data[n_samples:])\n"
     ]
    }
   ],
   "source": [
    "train = train.sample(frac=1, random_state=42)\n",
    "\n",
    "# Split the dataset into train and test sets\n",
    "train_data = pd.DataFrame()\n",
    "test_data = pd.DataFrame()\n",
    "\n",
    "# Select 80% of each sentiment class for training\n",
    "for sentiment in [-1, 0, 1]:\n",
    "    sentiment_data = train[train['sentiment'] == sentiment]\n",
    "    n_samples = int(0.8 * len(sentiment_data))\n",
    "    train_data = train_data.append(sentiment_data[:n_samples])\n",
    "    test_data = test_data.append(sentiment_data[n_samples:])\n",
    "\n",
    "# Shuffle the train and test sets again\n",
    "train_data = train_data.sample(frac=1, random_state=42)\n",
    "test_data = test_data.sample(frac=1, random_state=42)\n"
   ]
  },
  {
   "cell_type": "code",
   "execution_count": 16,
   "metadata": {},
   "outputs": [],
   "source": [
    "# Initialize the tokenizer\n",
    "tokenizer = Tokenizer()\n",
    "# Specify the maximum number of words to be used\n",
    "max_sequence_length = 64\n",
    "# Fit the tokenizer on the training data\n",
    "tokenizer.fit_on_texts(train_data['comment'])\n",
    "\n",
    "# Convert training texts to sequences of tokens\n",
    "train_sequences = tokenizer.texts_to_sequences(train_data['comment'])\n",
    "# Pad training sequences to ensure uniform length\n",
    "train_padded_sequences = pad_sequences(train_sequences, maxlen=max_sequence_length)\n",
    "\n",
    "# Convert testing texts to sequences of tokens\n",
    "test_sequences = tokenizer.texts_to_sequences(test_data['comment'])\n",
    "# Pad testing sequences to ensure uniform length\n",
    "test_padded_sequences = pad_sequences(test_sequences, maxlen=max_sequence_length)\n"
   ]
  },
  {
   "cell_type": "code",
   "execution_count": 17,
   "metadata": {},
   "outputs": [
    {
     "data": {
      "text/html": [
       "<div>\n",
       "<style scoped>\n",
       "    .dataframe tbody tr th:only-of-type {\n",
       "        vertical-align: middle;\n",
       "    }\n",
       "\n",
       "    .dataframe tbody tr th {\n",
       "        vertical-align: top;\n",
       "    }\n",
       "\n",
       "    .dataframe thead th {\n",
       "        text-align: right;\n",
       "    }\n",
       "</style>\n",
       "<table border=\"1\" class=\"dataframe\">\n",
       "  <thead>\n",
       "    <tr style=\"text-align: right;\">\n",
       "      <th></th>\n",
       "      <th>id</th>\n",
       "      <th>text</th>\n",
       "      <th>labels</th>\n",
       "      <th>comment</th>\n",
       "      <th>sentiment</th>\n",
       "    </tr>\n",
       "  </thead>\n",
       "  <tbody>\n",
       "    <tr>\n",
       "      <th>1901</th>\n",
       "      <td>1901</td>\n",
       "      <td>simu tamu zaidi</td>\n",
       "      <td>1</td>\n",
       "      <td>simu tamu zaidi</td>\n",
       "      <td>1</td>\n",
       "    </tr>\n",
       "    <tr>\n",
       "      <th>2964</th>\n",
       "      <td>2964</td>\n",
       "      <td>huduma hunyonya</td>\n",
       "      <td>0</td>\n",
       "      <td>huduma hunyonya</td>\n",
       "      <td>0</td>\n",
       "    </tr>\n",
       "    <tr>\n",
       "      <th>3809</th>\n",
       "      <td>3809</td>\n",
       "      <td>katika pindi tatu tofauti  tofauti mimi niliom...</td>\n",
       "      <td>0</td>\n",
       "      <td>katika pindi tatu tofauti tofauti mimi niliomb...</td>\n",
       "      <td>0</td>\n",
       "    </tr>\n",
       "    <tr>\n",
       "      <th>3450</th>\n",
       "      <td>3450</td>\n",
       "      <td>vivyo hivyo mtu aliyejifungua hakusema juu ya ...</td>\n",
       "      <td>0</td>\n",
       "      <td>vivyo hivyo mtu aliyejifungua hakusema ju ya k...</td>\n",
       "      <td>0</td>\n",
       "    </tr>\n",
       "    <tr>\n",
       "      <th>1971</th>\n",
       "      <td>1971</td>\n",
       "      <td>hadithi yenyewe ni yenye kutabirika na yenye u...</td>\n",
       "      <td>0</td>\n",
       "      <td>hadithi yenyewe ni yenye kutabirika na yenye u...</td>\n",
       "      <td>0</td>\n",
       "    </tr>\n",
       "  </tbody>\n",
       "</table>\n",
       "</div>"
      ],
      "text/plain": [
       "        id                                               text  labels  \\\n",
       "1901  1901                                    simu tamu zaidi       1   \n",
       "2964  2964                                    huduma hunyonya       0   \n",
       "3809  3809  katika pindi tatu tofauti  tofauti mimi niliom...       0   \n",
       "3450  3450  vivyo hivyo mtu aliyejifungua hakusema juu ya ...       0   \n",
       "1971  1971  hadithi yenyewe ni yenye kutabirika na yenye u...       0   \n",
       "\n",
       "                                                comment  sentiment  \n",
       "1901                                    simu tamu zaidi          1  \n",
       "2964                                    huduma hunyonya          0  \n",
       "3809  katika pindi tatu tofauti tofauti mimi niliomb...          0  \n",
       "3450  vivyo hivyo mtu aliyejifungua hakusema ju ya k...          0  \n",
       "1971  hadithi yenyewe ni yenye kutabirika na yenye u...          0  "
      ]
     },
     "execution_count": 17,
     "metadata": {},
     "output_type": "execute_result"
    }
   ],
   "source": [
    "vocab_size = len(tokenizer.word_index) + 1\n",
    "\n",
    "test_data.head()"
   ]
  },
  {
   "cell_type": "code",
   "execution_count": 50,
   "metadata": {},
   "outputs": [],
   "source": [
    "num_classes = 2  # Number of sentiment classes\n",
    "sentiment_mapping = [0, 1]\n",
    "\n",
    "# Convert the sentiment labels to one-hot encoded vectors for training data\n",
    "train_one_hot_labels = np.zeros((len(train_data), num_classes))\n",
    "for i, sentiment in enumerate(train_data['sentiment']):\n",
    "    index = sentiment_mapping[sentiment]\n",
    "    train_one_hot_labels[i, index] = 1\n",
    "\n",
    "# Convert the sentiment labels to one-hot encoded vectors for testing data\n",
    "test_one_hot_labels = np.zeros((len(test_data), num_classes))\n",
    "for i, sentiment in enumerate(test_data['sentiment']):\n",
    "    index_ = sentiment_mapping[sentiment]\n",
    "    test_one_hot_labels[i, index_] = 1\n"
   ]
  },
  {
   "cell_type": "code",
   "execution_count": 52,
   "metadata": {},
   "outputs": [
    {
     "data": {
      "text/plain": [
       "((785, 64), (3136, 64), (3136, 2), (785, 2))"
      ]
     },
     "execution_count": 52,
     "metadata": {},
     "output_type": "execute_result"
    }
   ],
   "source": [
    "test_padded_sequences.shape, train_padded_sequences.shape, train_one_hot_labels.shape, test_one_hot_labels.shape"
   ]
  },
  {
   "cell_type": "code",
   "execution_count": 51,
   "metadata": {},
   "outputs": [
    {
     "data": {
      "text/plain": [
       "array([1., 0.])"
      ]
     },
     "execution_count": 51,
     "metadata": {},
     "output_type": "execute_result"
    }
   ],
   "source": [
    "train_one_hot_labels[2] "
   ]
  },
  {
   "cell_type": "code",
   "execution_count": 53,
   "metadata": {},
   "outputs": [],
   "source": [
    "from keras_tuner import HyperModel, RandomSearch\n",
    "from keras_tuner.engine.hyperparameters import HyperParameters\n",
    "\n",
    "# Define the hypermodel\n",
    "class SentimentAnalysisHyperModel(HyperModel):\n",
    "    def __init__(self, vocab_size, max_sequence_length, small=False):\n",
    "        self.vocab_size = vocab_size\n",
    "        self.max_sequence_length = max_sequence_length\n",
    "        self.small = small\n",
    "    \n",
    "    def build(self, hp):\n",
    "        model = Sequential()\n",
    "        if not self.small:\n",
    "            model.add(Embedding(self.vocab_size, 136, input_length=self.max_sequence_length))\n",
    "            model.add(LSTM(128, return_sequences=True))\n",
    "            model.add(LSTM(102))\n",
    "            model.add(Dense(hp.Int('layer_units', min_value=96, max_value=128, step=32), activation='relu'))\n",
    "            model.add(Dropout(0.2))\n",
    "            model.add(Dense(3, activation='softmax'))\n",
    "        else:\n",
    "            model.add(Embedding(len(tokenizer.word_index) + 1, 128, input_length=max_sequence_length))\n",
    "            model.add(Bidirectional(LSTM(hp.Int('layer_units', min_value=96, max_value=128, step=32), dropout=0.2, recurrent_dropout=0.2)))\n",
    "            model.add(Dense(3, activation='softmax'))\n",
    "            \n",
    "        model.compile(\n",
    "            loss='categorical_crossentropy',\n",
    "            optimizer=keras.optimizers.Adam(1e-4),\n",
    "            metrics=['accuracy']\n",
    "        )\n",
    "        return model\n",
    "\n",
    "    def build_model(self, hp=128):\n",
    "        model = Sequential()\n",
    "        if not self.small:\n",
    "            model.add(Embedding(self.vocab_size, 136, input_length=self.max_sequence_length))\n",
    "            model.add(LSTM(128, return_sequences=True))\n",
    "            model.add(LSTM(102))\n",
    "            model.add(Dense(96, activation='relu'))\n",
    "            model.add(Dropout(0.2))\n",
    "            model.add(Dense(3, activation='softmax'))\n",
    "        else:\n",
    "            model.add(Embedding(len(tokenizer.word_index) + 1, 136, input_length=max_sequence_length))\n",
    "            model.add(LSTM(hp, dropout=0.2, recurrent_dropout=0.2))\n",
    "            model.add(Dense(3, activation='softmax'))\n",
    "            \n",
    "        model.compile(\n",
    "            loss='categorical_crossentropy',\n",
    "            optimizer=keras.optimizers.Adam(1e-4),\n",
    "            metrics=['accuracy']\n",
    "        )\n",
    "        return model\n",
    "\n",
    "\n"
   ]
  },
  {
   "cell_type": "code",
   "execution_count": 54,
   "metadata": {},
   "outputs": [
    {
     "name": "stdout",
     "output_type": "stream",
     "text": [
      "Trial 2 Complete [00h 00m 02s]\n",
      "\n",
      "Best val_accuracy So Far: None\n",
      "Total elapsed time: 00h 00m 05s\n",
      "INFO:tensorflow:Oracle triggered exit\n"
     ]
    }
   ],
   "source": [
    "# USE WHEN HYPER PARAMETERS ARE NOT WELL DEFINED\n",
    "\n",
    "# Define the hyperparameters search space\n",
    "hypermodel = SentimentAnalysisHyperModel(vocab_size, max_sequence_length, False)\n",
    "hyperparameters = HyperParameters()\n",
    "hyperparameters.Int('layer_units', min_value=96, max_value=128, step=32)\n",
    "\n",
    "# Perform random search hyperparameter tuning\n",
    "tuner = RandomSearch(\n",
    "    hypermodel,\n",
    "    objective='val_accuracy',\n",
    "    max_trials=5,\n",
    "    directory='hyperparameter_tuning',\n",
    "    project_name='swahili_sentiment_analysis_sarufi'\n",
    ")\n",
    "\n",
    "tuner.search(train_padded_sequences, train_one_hot_labels, validation_data=(test_padded_sequences, test_one_hot_labels), batch_size=4, epochs=2)\n",
    "\n",
    "# Get the best hyperparameters\n",
    "best_hyperparameters = tuner.get_best_hyperparameters(num_trials=1)[0]\n",
    "best_model = tuner.hypermodel.build(best_hyperparameters)"
   ]
  },
  {
   "cell_type": "code",
   "execution_count": 55,
   "metadata": {},
   "outputs": [
    {
     "name": "stdout",
     "output_type": "stream",
     "text": [
      "Model: \"sequential_2\"\n",
      "_________________________________________________________________\n",
      " Layer (type)                Output Shape              Param #   \n",
      "=================================================================\n",
      " embedding_2 (Embedding)     (None, 64, 136)           865912    \n",
      "                                                                 \n",
      " lstm_4 (LSTM)               (None, 64, 128)           135680    \n",
      "                                                                 \n",
      " lstm_5 (LSTM)               (None, 102)               94248     \n",
      "                                                                 \n",
      " dense_4 (Dense)             (None, 96)                9888      \n",
      "                                                                 \n",
      " dropout_2 (Dropout)         (None, 96)                0         \n",
      "                                                                 \n",
      " dense_5 (Dense)             (None, 2)                 194       \n",
      "                                                                 \n",
      "=================================================================\n",
      "Total params: 1,105,922\n",
      "Trainable params: 1,105,922\n",
      "Non-trainable params: 0\n",
      "_________________________________________________________________\n"
     ]
    }
   ],
   "source": [
    "model = Sequential()\n",
    "model.add(Embedding(vocab_size, 136, input_length=max_sequence_length))\n",
    "model.add(LSTM(128, return_sequences=True))\n",
    "model.add(LSTM(102))\n",
    "model.add(Dense(96, activation='relu'))\n",
    "model.add(Dropout(0.2))\n",
    "model.add(Dense(num_classes, activation='softmax'))\n",
    "\n",
    "model.compile(\n",
    "    loss='categorical_crossentropy',\n",
    "    optimizer=keras.optimizers.Adam(1e-4),\n",
    "    metrics=['accuracy']\n",
    ")\n",
    "\n",
    "model.summary()"
   ]
  },
  {
   "cell_type": "code",
   "execution_count": 65,
   "metadata": {},
   "outputs": [
    {
     "name": "stdout",
     "output_type": "stream",
     "text": [
      "Epoch 1/10\n",
      "784/784 [==============================] - 77s 91ms/step - loss: 0.6848 - accuracy: 0.5526 - val_loss: 0.6394 - val_accuracy: 0.6561\n",
      "Epoch 2/10\n",
      "784/784 [==============================] - 92s 118ms/step - loss: 0.4932 - accuracy: 0.7679 - val_loss: 0.5114 - val_accuracy: 0.7503\n",
      "Epoch 3/10\n",
      "784/784 [==============================] - 85s 108ms/step - loss: 0.2997 - accuracy: 0.8836 - val_loss: 0.5718 - val_accuracy: 0.7325\n",
      "Epoch 4/10\n",
      "784/784 [==============================] - 87s 110ms/step - loss: 0.1808 - accuracy: 0.9346 - val_loss: 0.6185 - val_accuracy: 0.7682\n",
      "Epoch 5/10\n",
      "784/784 [==============================] - 109s 139ms/step - loss: 0.1135 - accuracy: 0.9684 - val_loss: 0.7313 - val_accuracy: 0.7694\n",
      "Epoch 6/10\n",
      "784/784 [==============================] - 109s 139ms/step - loss: 0.0808 - accuracy: 0.9796 - val_loss: 0.7876 - val_accuracy: 0.7694\n",
      "Epoch 7/10\n",
      "784/784 [==============================] - 142s 181ms/step - loss: 0.0567 - accuracy: 0.9866 - val_loss: 0.8721 - val_accuracy: 0.7783\n",
      "Epoch 8/10\n",
      "784/784 [==============================] - 133s 170ms/step - loss: 0.0450 - accuracy: 0.9869 - val_loss: 0.9169 - val_accuracy: 0.7732\n",
      "Epoch 9/10\n",
      "784/784 [==============================] - 130s 166ms/step - loss: 0.0385 - accuracy: 0.9898 - val_loss: 0.9874 - val_accuracy: 0.7720\n",
      "Epoch 10/10\n",
      "784/784 [==============================] - 129s 165ms/step - loss: 0.0334 - accuracy: 0.9920 - val_loss: 1.1507 - val_accuracy: 0.7656\n"
     ]
    }
   ],
   "source": [
    "history = model.fit(train_padded_sequences, train_one_hot_labels, validation_data=(test_padded_sequences, test_one_hot_labels), batch_size=4, epochs=10)"
   ]
  },
  {
   "cell_type": "code",
   "execution_count": 66,
   "metadata": {},
   "outputs": [
    {
     "data": {
      "image/png": "[encoded data removed]",
      "text/plain": [
       "<Figure size 1500x500 with 1 Axes>"
      ]
     },
     "metadata": {},
     "output_type": "display_data"
    }
   ],
   "source": [
    "# plot accuracy and loss on training and validation sets\n",
    "import matplotlib.pyplot as plt\n",
    "\n",
    "plt.figure(figsize=(15,5))\n",
    "plt.plot(history.history['accuracy'])\n",
    "plt.plot(history.history['val_accuracy'])\n",
    "plt.title('model accuracy')\n",
    "plt.ylabel('accuracy')\n",
    "plt.xlabel('epoch')\n",
    "plt.legend(['train', 'val'], loc='upper left')\n",
    "plt.show()\n"
   ]
  },
  {
   "cell_type": "code",
   "execution_count": 67,
   "metadata": {},
   "outputs": [
    {
     "data": {
      "image/png": "[encoded data removed]",
      "text/plain": [
       "<Figure size 1500x500 with 1 Axes>"
      ]
     },
     "metadata": {},
     "output_type": "display_data"
    }
   ],
   "source": [
    "# plot accuracy and loss on training and validation sets\n",
    "import matplotlib.pyplot as plt\n",
    "\n",
    "plt.figure(figsize=(15,5))\n",
    "plt.plot(history.history['loss'])\n",
    "plt.plot(history.history['val_loss'])\n",
    "plt.title('model training loss')\n",
    "plt.ylabel('loss')\n",
    "plt.xlabel('epoch')\n",
    "plt.legend(['train', 'val'], loc='upper left')\n",
    "plt.show()\n"
   ]
  },
  {
   "cell_type": "code",
   "execution_count": 68,
   "metadata": {},
   "outputs": [],
   "source": [
    "best_model = model  # switched to custom"
   ]
  },
  {
   "cell_type": "code",
   "execution_count": 73,
   "metadata": {},
   "outputs": [],
   "source": [
    "def classify(text, model, tokenizer, max_sequence_length):\n",
    "    text = clean_text(text)\n",
    "    # tokenize and pad text\n",
    "    text_sequences = tokenizer.texts_to_sequences([text])\n",
    "    # Pad training sequences to ensure uniform length\n",
    "    text_padded_sequences = pad_sequences(text_sequences, maxlen=max_sequence_length)\n",
    "    predicted_sentiment = model.predict(text_padded_sequences, verbose=0)\n",
    "\n",
    "    # Convert the prediction probabilities to sentiment labels\n",
    "    sentiment_labels = { 0: \"Negative\", 1: \"Positive\"} \n",
    "    predicted_result = sentiment_labels[int(np.argmax(predicted_sentiment))]\n",
    "\n",
    "    return predicted_result"
   ]
  },
  {
   "cell_type": "code",
   "execution_count": 74,
   "metadata": {},
   "outputs": [
    {
     "data": {
      "text/plain": [
       "'Positive'"
      ]
     },
     "execution_count": 74,
     "metadata": {},
     "output_type": "execute_result"
    }
   ],
   "source": [
    "msg = \"filamu inafanikiwa licha au labda kwa sababu bajeti ndogo\"\n",
    "sentiment_result = classify(msg, best_model, tokenizer, max_sequence_length)\n",
    "sentiment_result"
   ]
  },
  {
   "cell_type": "code",
   "execution_count": 75,
   "metadata": {},
   "outputs": [],
   "source": [
    "# save the model\n",
    "best_model.save(\"model/hyper_sarufi_tunned_swahili_sentiment_rating.h5\")\n",
    "\n",
    "#save tokenizer\n",
    "tokenizer_json = tokenizer.to_json()\n",
    "with open('tokenizers/hyper_sarufi_tunned_swahili_sentiment_rating.json', 'w', encoding='utf-8') as f:\n",
    "    f.write(tokenizer_json)"
   ]
  },
  {
   "cell_type": "code",
   "execution_count": 76,
   "metadata": {},
   "outputs": [],
   "source": [
    "train['labels'] = train['comment'].apply(lambda x: classify(x, best_model, tokenizer, max_sequence_length))"
   ]
  },
  {
   "cell_type": "code",
   "execution_count": 77,
   "metadata": {},
   "outputs": [
    {
     "data": {
      "text/plain": [
       "<AxesSubplot:>"
      ]
     },
     "execution_count": 77,
     "metadata": {},
     "output_type": "execute_result"
    },
    {
     "data": {
      "image/png": "[encoded data removed]",
      "text/plain": [
       "<Figure size 640x480 with 1 Axes>"
      ]
     },
     "metadata": {},
     "output_type": "display_data"
    }
   ],
   "source": [
    "train.labels.value_counts().plot(kind='bar')"
   ]
  },
  {
   "cell_type": "code",
   "execution_count": 80,
   "metadata": {},
   "outputs": [
    {
     "data": {
      "text/html": [
       "<div>\n",
       "<style scoped>\n",
       "    .dataframe tbody tr th:only-of-type {\n",
       "        vertical-align: middle;\n",
       "    }\n",
       "\n",
       "    .dataframe tbody tr th {\n",
       "        vertical-align: top;\n",
       "    }\n",
       "\n",
       "    .dataframe thead th {\n",
       "        text-align: right;\n",
       "    }\n",
       "</style>\n",
       "<table border=\"1\" class=\"dataframe\">\n",
       "  <thead>\n",
       "    <tr style=\"text-align: right;\">\n",
       "      <th></th>\n",
       "      <th>text</th>\n",
       "      <th>labels</th>\n",
       "      <th>sentiment</th>\n",
       "    </tr>\n",
       "  </thead>\n",
       "  <tbody>\n",
       "    <tr>\n",
       "      <th>805</th>\n",
       "      <td>inafanya kazi nzuri</td>\n",
       "      <td>Positive</td>\n",
       "      <td>1</td>\n",
       "    </tr>\n",
       "    <tr>\n",
       "      <th>1206</th>\n",
       "      <td>ninaipenda rangi hii ya bluu</td>\n",
       "      <td>Positive</td>\n",
       "      <td>1</td>\n",
       "    </tr>\n",
       "    <tr>\n",
       "      <th>3737</th>\n",
       "      <td>mahali hapo hapajapatana sana na uruduku wao n...</td>\n",
       "      <td>Negative</td>\n",
       "      <td>0</td>\n",
       "    </tr>\n",
       "    <tr>\n",
       "      <th>3487</th>\n",
       "      <td>raha</td>\n",
       "      <td>Positive</td>\n",
       "      <td>1</td>\n",
       "    </tr>\n",
       "    <tr>\n",
       "      <th>1741</th>\n",
       "      <td>bidhaa ni kama ilivyoelezwa</td>\n",
       "      <td>Positive</td>\n",
       "      <td>1</td>\n",
       "    </tr>\n",
       "    <tr>\n",
       "      <th>...</th>\n",
       "      <td>...</td>\n",
       "      <td>...</td>\n",
       "      <td>...</td>\n",
       "    </tr>\n",
       "    <tr>\n",
       "      <th>1132</th>\n",
       "      <td>nilikuwa na kazi hiyo kwa karibu miaka  na ime...</td>\n",
       "      <td>Positive</td>\n",
       "      <td>1</td>\n",
       "    </tr>\n",
       "    <tr>\n",
       "      <th>1296</th>\n",
       "      <td>picha ni bora na kamera ni nzuri kama ile ya m...</td>\n",
       "      <td>Positive</td>\n",
       "      <td>1</td>\n",
       "    </tr>\n",
       "    <tr>\n",
       "      <th>862</th>\n",
       "      <td>tulifurahia matukio hao</td>\n",
       "      <td>Positive</td>\n",
       "      <td>1</td>\n",
       "    </tr>\n",
       "    <tr>\n",
       "      <th>3511</th>\n",
       "      <td>zote ni pamoja na kukuhakikishia kwamba uko mg...</td>\n",
       "      <td>Positive</td>\n",
       "      <td>1</td>\n",
       "    </tr>\n",
       "    <tr>\n",
       "      <th>3178</th>\n",
       "      <td>kwa ujumla sifikiri kwamba ningewapeleka wazaz...</td>\n",
       "      <td>Positive</td>\n",
       "      <td>0</td>\n",
       "    </tr>\n",
       "  </tbody>\n",
       "</table>\n",
       "<p>3921 rows × 3 columns</p>\n",
       "</div>"
      ],
      "text/plain": [
       "                                                   text    labels  sentiment\n",
       "805                                 inafanya kazi nzuri  Positive          1\n",
       "1206                       ninaipenda rangi hii ya bluu  Positive          1\n",
       "3737  mahali hapo hapajapatana sana na uruduku wao n...  Negative          0\n",
       "3487                                               raha  Positive          1\n",
       "1741                        bidhaa ni kama ilivyoelezwa  Positive          1\n",
       "...                                                 ...       ...        ...\n",
       "1132  nilikuwa na kazi hiyo kwa karibu miaka  na ime...  Positive          1\n",
       "1296  picha ni bora na kamera ni nzuri kama ile ya m...  Positive          1\n",
       "862                             tulifurahia matukio hao  Positive          1\n",
       "3511  zote ni pamoja na kukuhakikishia kwamba uko mg...  Positive          1\n",
       "3178  kwa ujumla sifikiri kwamba ningewapeleka wazaz...  Positive          0\n",
       "\n",
       "[3921 rows x 3 columns]"
      ]
     },
     "execution_count": 80,
     "metadata": {},
     "output_type": "execute_result"
    }
   ],
   "source": [
    "train.drop(['id', 'comment', 'label'], axis=1)\n",
    "\n"
   ]
  }
 ],
 "metadata": {
  "kernelspec": {
   "display_name": "Python 3",
   "language": "python",
   "name": "python3"
  },
  "language_info": {
   "codemirror_mode": {
    "name": "ipython",
    "version": 3
   },
   "file_extension": ".py",
   "mimetype": "text/x-python",
   "name": "python",
   "nbconvert_exporter": "python",
   "pygments_lexer": "ipython3",
   "version": "3.10.6"
  },
  "orig_nbformat": 4
 },
 "nbformat": 4,
 "nbformat_minor": 2
}
