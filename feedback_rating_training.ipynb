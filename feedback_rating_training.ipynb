{
 "cells": [
  {
   "cell_type": "code",
   "execution_count": 1,
   "metadata": {},
   "outputs": [],
   "source": [
    "import pandas as pd\n",
    "import numpy as np\n",
    "from sklearn.model_selection import train_test_split\n",
    "from matplotlib import pyplot as plt\n",
    "\n",
    "from tensorflow.keras.preprocessing.text import Tokenizer \n",
    "from tensorflow.keras.preprocessing.sequence import pad_sequences\n",
    "\n",
    "from tensorflow.keras.models import Sequential\n",
    "from keras.layers import Embedding, LSTM, Dense"
   ]
  },
  {
   "cell_type": "code",
   "execution_count": 2,
   "metadata": {},
   "outputs": [],
   "source": [
    "# load data\n",
    "path = ''\n",
    "df = pd.read_csv(path+\"train.csv\")\n",
    "test = pd.read_csv(path+\"test.csv\")"
   ]
  },
  {
   "cell_type": "code",
   "execution_count": 3,
   "metadata": {},
   "outputs": [],
   "source": [
    "# a simple function to clean text data \n",
    "import re \n",
    "from string import punctuation \n",
    "def text_cleaning(text):\n",
    "    # Clean the text data\n",
    "\n",
    "    text = re.sub(r\"[^A-Za-z0-9]\", \" \", text)\n",
    "    text = re.sub(r'\\b\\d+(?:\\.\\d+)?\\s+', '', text) # remove numbers\n",
    "    text = text.lower()  # set in lowercase \n",
    "        \n",
    "    # Remove punctuation from text\n",
    "    text = ''.join([c for c in text if c not in punctuation])\n",
    "        \n",
    "    # Return a list of words\n",
    "    return(text)"
   ]
  },
  {
   "cell_type": "code",
   "execution_count": 4,
   "metadata": {},
   "outputs": [],
   "source": [
    "#clean the train and test data\n",
    "df[\"comment\"] = df[\"comment\"].apply(text_cleaning)\n",
    "test[\"comment\"] = test[\"comment\"].apply(text_cleaning)"
   ]
  },
  {
   "cell_type": "code",
   "execution_count": 5,
   "metadata": {},
   "outputs": [
    {
     "data": {
      "text/html": [
       "<div>\n",
       "<style scoped>\n",
       "    .dataframe tbody tr th:only-of-type {\n",
       "        vertical-align: middle;\n",
       "    }\n",
       "\n",
       "    .dataframe tbody tr th {\n",
       "        vertical-align: top;\n",
       "    }\n",
       "\n",
       "    .dataframe thead th {\n",
       "        text-align: right;\n",
       "    }\n",
       "</style>\n",
       "<table border=\"1\" class=\"dataframe\">\n",
       "  <thead>\n",
       "    <tr style=\"text-align: right;\">\n",
       "      <th></th>\n",
       "      <th>train_id</th>\n",
       "      <th>comment</th>\n",
       "      <th>sentiment</th>\n",
       "    </tr>\n",
       "  </thead>\n",
       "  <tbody>\n",
       "    <tr>\n",
       "      <th>0</th>\n",
       "      <td>bbe0f441-b2fc-461a-9618-e3a7eb9cb6b7</td>\n",
       "      <td>habari  telecom1 tz naomba kujua kama kuna hud...</td>\n",
       "      <td>-1</td>\n",
       "    </tr>\n",
       "    <tr>\n",
       "      <th>1</th>\n",
       "      <td>81b3b16d-8bf0-4d46-9b68-d7ffb078d108</td>\n",
       "      <td>telecom3 tanzania hivi telecom3 mnatuchukulia...</td>\n",
       "      <td>-1</td>\n",
       "    </tr>\n",
       "    <tr>\n",
       "      <th>2</th>\n",
       "      <td>f4785623-6bb9-49de-b905-25911a66f1d3</td>\n",
       "      <td>telecom2 wamupunguza vifurushi vya internet k...</td>\n",
       "      <td>0</td>\n",
       "    </tr>\n",
       "    <tr>\n",
       "      <th>3</th>\n",
       "      <td>0ec5ec2b-0811-4b1d-be70-9cc0c137159a</td>\n",
       "      <td>telecom2 kwenye huduma1 nimewakubali sana sem...</td>\n",
       "      <td>-1</td>\n",
       "    </tr>\n",
       "    <tr>\n",
       "      <th>4</th>\n",
       "      <td>40082169-ebd0-4ca9-b0d3-c46ac949e034</td>\n",
       "      <td>idrissultan vip kuhusu hawa mzee     umefikia...</td>\n",
       "      <td>0</td>\n",
       "    </tr>\n",
       "  </tbody>\n",
       "</table>\n",
       "</div>"
      ],
      "text/plain": [
       "                               train_id  \\\n",
       "0  bbe0f441-b2fc-461a-9618-e3a7eb9cb6b7   \n",
       "1  81b3b16d-8bf0-4d46-9b68-d7ffb078d108   \n",
       "2  f4785623-6bb9-49de-b905-25911a66f1d3   \n",
       "3  0ec5ec2b-0811-4b1d-be70-9cc0c137159a   \n",
       "4  40082169-ebd0-4ca9-b0d3-c46ac949e034   \n",
       "\n",
       "                                             comment  sentiment  \n",
       "0  habari  telecom1 tz naomba kujua kama kuna hud...         -1  \n",
       "1   telecom3 tanzania hivi telecom3 mnatuchukulia...         -1  \n",
       "2   telecom2 wamupunguza vifurushi vya internet k...          0  \n",
       "3   telecom2 kwenye huduma1 nimewakubali sana sem...         -1  \n",
       "4   idrissultan vip kuhusu hawa mzee     umefikia...          0  "
      ]
     },
     "execution_count": 5,
     "metadata": {},
     "output_type": "execute_result"
    }
   ],
   "source": [
    "df.head()"
   ]
  },
  {
   "cell_type": "code",
   "execution_count": 6,
   "metadata": {},
   "outputs": [],
   "source": [
    "X = df['comment']\n",
    "y = df['sentiment'].to_numpy()"
   ]
  },
  {
   "cell_type": "code",
   "execution_count": 7,
   "metadata": {},
   "outputs": [],
   "source": [
    "# Tokenize the comments\n",
    "tokenizer = Tokenizer()\n",
    "tokenizer.fit_on_texts(df['comment'])  \n",
    "X = tokenizer.texts_to_sequences(df['comment']) \n",
    "\n",
    "# Pad the sequences \n",
    "max_sequence_length = 100  \n",
    "X = pad_sequences(X, maxlen=max_sequence_length)\n",
    "\n",
    "# Convert the sentiment labels to one-hot encoded vectors\n",
    "y = np.zeros((len(df), 3))  # 3 represents the number of sentiment classes\n",
    "sentiment_mapping = {-1: 0, 0: 1, 1: 2}  \n",
    "for i, sentiment in enumerate(df['sentiment']):\n",
    "    index = sentiment_mapping[sentiment]\n",
    "    y[i, index] = 1\n"
   ]
  },
  {
   "cell_type": "code",
   "execution_count": 8,
   "metadata": {},
   "outputs": [],
   "source": [
    "split_ratio = 0.8  # 80% for training, 20% for testing\n",
    "split_index = int(split_ratio * len(df))\n",
    "\n",
    "X_train = X[:split_index]\n",
    "y_train = y[:split_index]\n",
    "X_test = X[split_index:]\n",
    "y_test = y[split_index:]"
   ]
  },
  {
   "cell_type": "code",
   "execution_count": 9,
   "metadata": {},
   "outputs": [
    {
     "name": "stdout",
     "output_type": "stream",
     "text": [
      "Model: \"sequential\"\n",
      "_________________________________________________________________\n",
      " Layer (type)                Output Shape              Param #   \n",
      "=================================================================\n",
      " embedding (Embedding)       (None, 100, 128)          1706112   \n",
      "                                                                 \n",
      " lstm (LSTM)                 (None, 128)               131584    \n",
      "                                                                 \n",
      " dense (Dense)               (None, 3)                 387       \n",
      "                                                                 \n",
      "=================================================================\n",
      "Total params: 1,838,083\n",
      "Trainable params: 1,838,083\n",
      "Non-trainable params: 0\n",
      "_________________________________________________________________\n"
     ]
    }
   ],
   "source": [
    "model = Sequential()\n",
    "model.add(Embedding(len(tokenizer.word_index) + 1, 128, input_length=max_sequence_length))\n",
    "model.add(LSTM(128, dropout=0.2, recurrent_dropout=0.2))\n",
    "model.add(Dense(3, activation='softmax'))\n",
    "\n",
    "# Compile the model\n",
    "model.compile(loss='categorical_crossentropy', optimizer='adam', metrics=['accuracy'])\n",
    "model.summary()"
   ]
  },
  {
   "cell_type": "code",
   "execution_count": 10,
   "metadata": {},
   "outputs": [
    {
     "name": "stdout",
     "output_type": "stream",
     "text": [
      "Epoch 1/3\n",
      "79/79 [==============================] - 62s 685ms/step - loss: 0.9958 - accuracy: 0.4840 - val_loss: 0.9512 - val_accuracy: 0.5488\n",
      "Epoch 2/3\n",
      "79/79 [==============================] - 33s 416ms/step - loss: 0.8214 - accuracy: 0.6533 - val_loss: 0.9544 - val_accuracy: 0.5584\n",
      "Epoch 3/3\n",
      "79/79 [==============================] - 34s 434ms/step - loss: 0.4092 - accuracy: 0.8551 - val_loss: 1.2383 - val_accuracy: 0.5072\n"
     ]
    }
   ],
   "source": [
    "history = model.fit(X_train, y_train, batch_size=32, epochs=3, validation_data=(X_test, y_test))"
   ]
  },
  {
   "cell_type": "code",
   "execution_count": 11,
   "metadata": {},
   "outputs": [
    {
     "data": {
      "image/png": "[encoded data removed]",
      "text/plain": [
       "<Figure size 1500x500 with 1 Axes>"
      ]
     },
     "metadata": {},
     "output_type": "display_data"
    }
   ],
   "source": [
    "plt.figure(figsize=(15,5))\n",
    "plt.title(\"Feedback rating training history\")\n",
    "\n",
    "plt.xlabel(\"Epochs\")\n",
    "\n",
    "x = history.epoch\n",
    "plt.plot(x,history.history['loss'])\n",
    "plt.plot(x,history.history['accuracy'])\n",
    "plt.plot(x,history.history['val_loss'])\n",
    "plt.plot(x,history.history['val_accuracy'])\n",
    "\n",
    "\n",
    "plt.legend([\"Training Loss\", \"Training Accuracy\", \"Validation Loss\", \"Validation Accuracy\"])\n",
    "\n",
    "plt.show()"
   ]
  },
  {
   "cell_type": "code",
   "execution_count": 12,
   "metadata": {},
   "outputs": [],
   "source": [
    "def predict_sentiment(sentence, tokenizer, model, max_sequence_length):\n",
    "    sequence = tokenizer.texts_to_sequences([sentence])\n",
    "    sequence = pad_sequences(sequence, maxlen=max_sequence_length)\n",
    "    prediction = model.predict(sequence, verbose=0)\n",
    "    # Convert the prediction probabilities to sentiment labels\n",
    "    sentiment_labels = [-1, 0, 1]  \n",
    "    predicted_sentiment = sentiment_labels[np.argmax(prediction)]\n",
    "    return predicted_sentiment"
   ]
  },
  {
   "cell_type": "code",
   "execution_count": 13,
   "metadata": {},
   "outputs": [],
   "source": [
    "sentiment_prediction = predict_sentiment(\n",
    "    \"Kabla hujatuma hela uwe unauliza namba ipi haina deni\",\n",
    "    tokenizer, \n",
    "    model, \n",
    "    max_sequence_length\n",
    ")"
   ]
  },
  {
   "cell_type": "code",
   "execution_count": 14,
   "metadata": {},
   "outputs": [
    {
     "data": {
      "text/plain": [
       "-1"
      ]
     },
     "execution_count": 14,
     "metadata": {},
     "output_type": "execute_result"
    }
   ],
   "source": [
    "sentiment_prediction"
   ]
  },
  {
   "cell_type": "code",
   "execution_count": 15,
   "metadata": {},
   "outputs": [],
   "source": [
    "# save the model\n",
    "model.save(\"model/swahili_sentiment_rating.h5\")\n",
    "\n",
    "#save tokenizer\n",
    "tokenizer_json = tokenizer.to_json()\n",
    "with open('tokenizers/swahili_sentiment_rating.json', 'w', encoding='utf-8') as f:\n",
    "    f.write(tokenizer_json)"
   ]
  },
  {
   "cell_type": "code",
   "execution_count": 16,
   "metadata": {},
   "outputs": [],
   "source": [
    "# create complete submission dataframe\n",
    "test['sentiment'] = test['comment'].apply(lambda x: predict_sentiment(x, tokenizer, model, max_sequence_length))"
   ]
  },
  {
   "cell_type": "code",
   "execution_count": null,
   "metadata": {},
   "outputs": [
    {
     "data": {
      "text/html": [
       "<div>\n",
       "<style scoped>\n",
       "    .dataframe tbody tr th:only-of-type {\n",
       "        vertical-align: middle;\n",
       "    }\n",
       "\n",
       "    .dataframe tbody tr th {\n",
       "        vertical-align: top;\n",
       "    }\n",
       "\n",
       "    .dataframe thead th {\n",
       "        text-align: right;\n",
       "    }\n",
       "</style>\n",
       "<table border=\"1\" class=\"dataframe\">\n",
       "  <thead>\n",
       "    <tr style=\"text-align: right;\">\n",
       "      <th></th>\n",
       "      <th>test_id</th>\n",
       "      <th>comment</th>\n",
       "      <th>sentiment</th>\n",
       "    </tr>\n",
       "  </thead>\n",
       "  <tbody>\n",
       "    <tr>\n",
       "      <th>0</th>\n",
       "      <td>53bb8dff-4a07-4aac-a6f2-ca552389652c</td>\n",
       "      <td>huduma1 wamenitext et wameniona mataa</td>\n",
       "      <td>-1</td>\n",
       "    </tr>\n",
       "    <tr>\n",
       "      <th>1</th>\n",
       "      <td>a01e1c68-2f77-4073-87c5-d7e5d75c8a79</td>\n",
       "      <td>telecom1 tz  telecom3tanzania na mtuue sasa</td>\n",
       "      <td>-1</td>\n",
       "    </tr>\n",
       "    <tr>\n",
       "      <th>2</th>\n",
       "      <td>9a5e4b98-ac29-4138-bc28-fc878d5d8269</td>\n",
       "      <td>hakuna mtandao wa simu unaoongoza kutuma messa...</td>\n",
       "      <td>0</td>\n",
       "    </tr>\n",
       "    <tr>\n",
       "      <th>3</th>\n",
       "      <td>9ef55f06-7748-4e02-85c7-fa3e46bb02dd</td>\n",
       "      <td>mwanzalimaa itakuwa kaipenda no yako kaenda k...</td>\n",
       "      <td>-1</td>\n",
       "    </tr>\n",
       "    <tr>\n",
       "      <th>4</th>\n",
       "      <td>d93b4084-3000-4026-bae0-ecb65564dbbd</td>\n",
       "      <td>telecom1 tz mm ni wakala wa usajili wa lain c...</td>\n",
       "      <td>-1</td>\n",
       "    </tr>\n",
       "    <tr>\n",
       "      <th>5</th>\n",
       "      <td>5f8bdef9-225c-4bf7-bc09-e98caf404a9c</td>\n",
       "      <td>joyceline mk telecom2 hadi vifurushi vya daki...</td>\n",
       "      <td>-1</td>\n",
       "    </tr>\n",
       "    <tr>\n",
       "      <th>6</th>\n",
       "      <td>5251826a-2476-42ad-9815-3840fcc3dd22</td>\n",
       "      <td>deoxz  telecom1 tz mbona  telecom2  wapo vzr ...</td>\n",
       "      <td>1</td>\n",
       "    </tr>\n",
       "    <tr>\n",
       "      <th>7</th>\n",
       "      <td>54ac2429-6922-4648-b321-ef88ff583b18</td>\n",
       "      <td>reposted from  cloudsmedialive      nimekuja n...</td>\n",
       "      <td>-1</td>\n",
       "    </tr>\n",
       "    <tr>\n",
       "      <th>8</th>\n",
       "      <td>ceb8a1d6-1cee-46e6-9d18-9074c3a2c2d1</td>\n",
       "      <td>kumbe huduma1 deni lao unavyozidi kukaa nalo l...</td>\n",
       "      <td>0</td>\n",
       "    </tr>\n",
       "    <tr>\n",
       "      <th>9</th>\n",
       "      <td>61be8933-9e41-4633-ae57-f8f561447234</td>\n",
       "      <td>telecom1 tz vifurushi cya saizi yako ni motooooo</td>\n",
       "      <td>-1</td>\n",
       "    </tr>\n",
       "    <tr>\n",
       "      <th>10</th>\n",
       "      <td>7d7ff6d4-77d8-4aa6-b0d5-fb3ad99b2df7</td>\n",
       "      <td>sasa  telecom3 tanzania na  telecom2 wana hyo ...</td>\n",
       "      <td>0</td>\n",
       "    </tr>\n",
       "    <tr>\n",
       "      <th>11</th>\n",
       "      <td>8ed50e96-40c0-48fc-a552-1be6d32a266b</td>\n",
       "      <td>mitandao ya hapa kwetu mama yao mmoja intaneti...</td>\n",
       "      <td>1</td>\n",
       "    </tr>\n",
       "    <tr>\n",
       "      <th>12</th>\n",
       "      <td>b0c2d138-38b8-4fdb-b5d7-4e442e61dd2a</td>\n",
       "      <td>telecom3 tanzania jana nimejiunga bando la da...</td>\n",
       "      <td>-1</td>\n",
       "    </tr>\n",
       "    <tr>\n",
       "      <th>13</th>\n",
       "      <td>4649b2a9-a752-4600-a427-972c14703998</td>\n",
       "      <td>shabani30127813 habari shabani  inahuduma ya 4g</td>\n",
       "      <td>-1</td>\n",
       "    </tr>\n",
       "    <tr>\n",
       "      <th>14</th>\n",
       "      <td>3735fbd0-f796-4156-b216-4eeadb139d0e</td>\n",
       "      <td>telecom2  nchamaboy telecom2 na vifushi vyenu...</td>\n",
       "      <td>-1</td>\n",
       "    </tr>\n",
       "    <tr>\n",
       "      <th>15</th>\n",
       "      <td>ccf10ed4-7816-4e4e-bed0-b017a64151be</td>\n",
       "      <td>telecom1 tz mnatangazo mlituma mkisema ukiham...</td>\n",
       "      <td>0</td>\n",
       "    </tr>\n",
       "    <tr>\n",
       "      <th>16</th>\n",
       "      <td>0c27b802-e78c-4ad6-9ea5-68c9bd6387c9</td>\n",
       "      <td>anzisheni huduma ya ku convert muda wa maongez...</td>\n",
       "      <td>0</td>\n",
       "    </tr>\n",
       "    <tr>\n",
       "      <th>17</th>\n",
       "      <td>7ad9e18f-4b1e-442e-aee1-1f45b23cff5d</td>\n",
       "      <td>telecom1 tz nikiwa ndani muda mwingi inaleta ...</td>\n",
       "      <td>-1</td>\n",
       "    </tr>\n",
       "    <tr>\n",
       "      <th>18</th>\n",
       "      <td>42cb832f-21dd-4c5d-b6e9-6db47b50d2da</td>\n",
       "      <td>telecom1 4g ni useless     wanavoi promote sas...</td>\n",
       "      <td>-1</td>\n",
       "    </tr>\n",
       "    <tr>\n",
       "      <th>19</th>\n",
       "      <td>5df754f6-1753-4044-b191-7cec1568bdb1</td>\n",
       "      <td>kivumbi wao wenyewe wanajiunga bando la tele...</td>\n",
       "      <td>-1</td>\n",
       "    </tr>\n",
       "  </tbody>\n",
       "</table>\n",
       "</div>"
      ],
      "text/plain": [
       "                                 test_id  \\\n",
       "0   53bb8dff-4a07-4aac-a6f2-ca552389652c   \n",
       "1   a01e1c68-2f77-4073-87c5-d7e5d75c8a79   \n",
       "2   9a5e4b98-ac29-4138-bc28-fc878d5d8269   \n",
       "3   9ef55f06-7748-4e02-85c7-fa3e46bb02dd   \n",
       "4   d93b4084-3000-4026-bae0-ecb65564dbbd   \n",
       "5   5f8bdef9-225c-4bf7-bc09-e98caf404a9c   \n",
       "6   5251826a-2476-42ad-9815-3840fcc3dd22   \n",
       "7   54ac2429-6922-4648-b321-ef88ff583b18   \n",
       "8   ceb8a1d6-1cee-46e6-9d18-9074c3a2c2d1   \n",
       "9   61be8933-9e41-4633-ae57-f8f561447234   \n",
       "10  7d7ff6d4-77d8-4aa6-b0d5-fb3ad99b2df7   \n",
       "11  8ed50e96-40c0-48fc-a552-1be6d32a266b   \n",
       "12  b0c2d138-38b8-4fdb-b5d7-4e442e61dd2a   \n",
       "13  4649b2a9-a752-4600-a427-972c14703998   \n",
       "14  3735fbd0-f796-4156-b216-4eeadb139d0e   \n",
       "15  ccf10ed4-7816-4e4e-bed0-b017a64151be   \n",
       "16  0c27b802-e78c-4ad6-9ea5-68c9bd6387c9   \n",
       "17  7ad9e18f-4b1e-442e-aee1-1f45b23cff5d   \n",
       "18  42cb832f-21dd-4c5d-b6e9-6db47b50d2da   \n",
       "19  5df754f6-1753-4044-b191-7cec1568bdb1   \n",
       "\n",
       "                                              comment  sentiment  \n",
       "0              huduma1 wamenitext et wameniona mataa          -1  \n",
       "1         telecom1 tz  telecom3tanzania na mtuue sasa         -1  \n",
       "2   hakuna mtandao wa simu unaoongoza kutuma messa...          0  \n",
       "3    mwanzalimaa itakuwa kaipenda no yako kaenda k...         -1  \n",
       "4    telecom1 tz mm ni wakala wa usajili wa lain c...         -1  \n",
       "5    joyceline mk telecom2 hadi vifurushi vya daki...         -1  \n",
       "6    deoxz  telecom1 tz mbona  telecom2  wapo vzr ...          1  \n",
       "7   reposted from  cloudsmedialive      nimekuja n...         -1  \n",
       "8   kumbe huduma1 deni lao unavyozidi kukaa nalo l...          0  \n",
       "9    telecom1 tz vifurushi cya saizi yako ni motooooo         -1  \n",
       "10  sasa  telecom3 tanzania na  telecom2 wana hyo ...          0  \n",
       "11  mitandao ya hapa kwetu mama yao mmoja intaneti...          1  \n",
       "12   telecom3 tanzania jana nimejiunga bando la da...         -1  \n",
       "13   shabani30127813 habari shabani  inahuduma ya 4g          -1  \n",
       "14   telecom2  nchamaboy telecom2 na vifushi vyenu...         -1  \n",
       "15   telecom1 tz mnatangazo mlituma mkisema ukiham...          0  \n",
       "16  anzisheni huduma ya ku convert muda wa maongez...          0  \n",
       "17   telecom1 tz nikiwa ndani muda mwingi inaleta ...         -1  \n",
       "18  telecom1 4g ni useless     wanavoi promote sas...         -1  \n",
       "19    kivumbi wao wenyewe wanajiunga bando la tele...         -1  "
      ]
     },
     "execution_count": 41,
     "metadata": {},
     "output_type": "execute_result"
    }
   ],
   "source": [
    "test[:20]"
   ]
  },
  {
   "cell_type": "code",
   "execution_count": null,
   "metadata": {},
   "outputs": [],
   "source": [
    "test.to_csv(\"results/submission_v1_LSTM.csv\", index=False)"
   ]
  },
  {
   "cell_type": "code",
   "execution_count": null,
   "metadata": {},
   "outputs": [],
   "source": [
    "# drop column 'comment' from test and save to csv\n",
    "test.drop(columns=['comment'], inplace=True)\n",
    "test.to_csv(\"results/submission_v1_LSTM.csv\", index=False)"
   ]
  }
 ],
 "metadata": {
  "kernelspec": {
   "display_name": "Python 3",
   "language": "python",
   "name": "python3"
  },
  "language_info": {
   "codemirror_mode": {
    "name": "ipython",
    "version": 3
   },
   "file_extension": ".py",
   "mimetype": "text/x-python",
   "name": "python",
   "nbconvert_exporter": "python",
   "pygments_lexer": "ipython3",
   "version": "3.10.6"
  },
  "orig_nbformat": 4
 },
 "nbformat": 4,
 "nbformat_minor": 2
}
