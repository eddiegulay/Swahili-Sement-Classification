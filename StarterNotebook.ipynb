{
 "cells": [
  {
   "cell_type": "markdown",
   "metadata": {},
   "source": [
    "### TANZANIA INDABAX VIRTUAL HACKATHON 2023: TELECOM SENTIMENT ANALYSIS CHALLENGE"
   ]
  },
  {
   "cell_type": "markdown",
   "metadata": {},
   "source": [
    "## Let's Get Started "
   ]
  },
  {
   "cell_type": "code",
   "execution_count": 1,
   "metadata": {
    "ExecuteTime": {
     "end_time": "2023-05-07T19:20:28.863911Z",
     "start_time": "2023-05-07T19:20:27.509146Z"
    }
   },
   "outputs": [],
   "source": [
    "# import important modules\n",
    "import numpy as np\n",
    "import pandas as pd\n",
    "\n",
    "# sklearn modules\n",
    "from sklearn.model_selection import train_test_split\n",
    "from sklearn.model_selection import cross_val_score\n",
    "from sklearn.ensemble import RandomForestClassifier #classifier\n",
    "\n",
    "from sklearn.metrics import accuracy_score #evaluation metric\n",
    "from sklearn.feature_extraction.text import CountVectorizer\n",
    "\n",
    "# text preprocessing modules\n",
    "import re \n",
    "from string import punctuation \n",
    "\n",
    "import warnings\n",
    "warnings.filterwarnings(\"ignore\")\n",
    "# seeding\n",
    "np.random.seed(123)"
   ]
  },
  {
   "cell_type": "code",
   "execution_count": 2,
   "metadata": {
    "ExecuteTime": {
     "end_time": "2023-05-07T19:20:28.888266Z",
     "start_time": "2023-05-07T19:20:28.865436Z"
    }
   },
   "outputs": [],
   "source": [
    "# load data\n",
    "path = ''\n",
    "train = pd.read_csv(path+\"train.csv\")\n",
    "test = pd.read_csv(path+\"test.csv\")\n",
    "submission = pd.read_csv(path+\"sample_submission.csv\")"
   ]
  },
  {
   "cell_type": "code",
   "execution_count": 3,
   "metadata": {
    "ExecuteTime": {
     "end_time": "2023-05-07T19:20:29.713501Z",
     "start_time": "2023-05-07T19:20:29.695317Z"
    }
   },
   "outputs": [
    {
     "data": {
      "text/html": [
       "<div>\n",
       "<style scoped>\n",
       "    .dataframe tbody tr th:only-of-type {\n",
       "        vertical-align: middle;\n",
       "    }\n",
       "\n",
       "    .dataframe tbody tr th {\n",
       "        vertical-align: top;\n",
       "    }\n",
       "\n",
       "    .dataframe thead th {\n",
       "        text-align: right;\n",
       "    }\n",
       "</style>\n",
       "<table border=\"1\" class=\"dataframe\">\n",
       "  <thead>\n",
       "    <tr style=\"text-align: right;\">\n",
       "      <th></th>\n",
       "      <th>train_id</th>\n",
       "      <th>comment</th>\n",
       "      <th>sentiment</th>\n",
       "    </tr>\n",
       "  </thead>\n",
       "  <tbody>\n",
       "    <tr>\n",
       "      <th>0</th>\n",
       "      <td>bbe0f441-b2fc-461a-9618-e3a7eb9cb6b7</td>\n",
       "      <td>Habari @telecom1_TZ naomba kujua kama kuna hud...</td>\n",
       "      <td>-1</td>\n",
       "    </tr>\n",
       "    <tr>\n",
       "      <th>1</th>\n",
       "      <td>81b3b16d-8bf0-4d46-9b68-d7ffb078d108</td>\n",
       "      <td>@telecom3_tanzania Hivi telecom3 mnatuchukulia...</td>\n",
       "      <td>-1</td>\n",
       "    </tr>\n",
       "    <tr>\n",
       "      <th>2</th>\n",
       "      <td>f4785623-6bb9-49de-b905-25911a66f1d3</td>\n",
       "      <td>@telecom2 wamupunguza vifurushi vya internet k...</td>\n",
       "      <td>0</td>\n",
       "    </tr>\n",
       "    <tr>\n",
       "      <th>3</th>\n",
       "      <td>0ec5ec2b-0811-4b1d-be70-9cc0c137159a</td>\n",
       "      <td>@telecom2 Kwenye huduma1 nimewakubali sana sem...</td>\n",
       "      <td>-1</td>\n",
       "    </tr>\n",
       "    <tr>\n",
       "      <th>4</th>\n",
       "      <td>40082169-ebd0-4ca9-b0d3-c46ac949e034</td>\n",
       "      <td>@IdrisSultan vip kuhusu hawa mzee.\\n   Umefiki...</td>\n",
       "      <td>0</td>\n",
       "    </tr>\n",
       "  </tbody>\n",
       "</table>\n",
       "</div>"
      ],
      "text/plain": [
       "                               train_id  \\\n",
       "0  bbe0f441-b2fc-461a-9618-e3a7eb9cb6b7   \n",
       "1  81b3b16d-8bf0-4d46-9b68-d7ffb078d108   \n",
       "2  f4785623-6bb9-49de-b905-25911a66f1d3   \n",
       "3  0ec5ec2b-0811-4b1d-be70-9cc0c137159a   \n",
       "4  40082169-ebd0-4ca9-b0d3-c46ac949e034   \n",
       "\n",
       "                                             comment  sentiment  \n",
       "0  Habari @telecom1_TZ naomba kujua kama kuna hud...         -1  \n",
       "1  @telecom3_tanzania Hivi telecom3 mnatuchukulia...         -1  \n",
       "2  @telecom2 wamupunguza vifurushi vya internet k...          0  \n",
       "3  @telecom2 Kwenye huduma1 nimewakubali sana sem...         -1  \n",
       "4  @IdrisSultan vip kuhusu hawa mzee.\\n   Umefiki...          0  "
      ]
     },
     "execution_count": 3,
     "metadata": {},
     "output_type": "execute_result"
    }
   ],
   "source": [
    "# show top five rows of train data\n",
    "train.head() "
   ]
  },
  {
   "cell_type": "code",
   "execution_count": 4,
   "metadata": {
    "ExecuteTime": {
     "end_time": "2023-05-07T19:20:33.448412Z",
     "start_time": "2023-05-07T19:20:33.439635Z"
    }
   },
   "outputs": [
    {
     "data": {
      "text/html": [
       "<div>\n",
       "<style scoped>\n",
       "    .dataframe tbody tr th:only-of-type {\n",
       "        vertical-align: middle;\n",
       "    }\n",
       "\n",
       "    .dataframe tbody tr th {\n",
       "        vertical-align: top;\n",
       "    }\n",
       "\n",
       "    .dataframe thead th {\n",
       "        text-align: right;\n",
       "    }\n",
       "</style>\n",
       "<table border=\"1\" class=\"dataframe\">\n",
       "  <thead>\n",
       "    <tr style=\"text-align: right;\">\n",
       "      <th></th>\n",
       "      <th>test_id</th>\n",
       "      <th>comment</th>\n",
       "    </tr>\n",
       "  </thead>\n",
       "  <tbody>\n",
       "    <tr>\n",
       "      <th>0</th>\n",
       "      <td>53bb8dff-4a07-4aac-a6f2-ca552389652c</td>\n",
       "      <td>huduma1 wamenitext et wameniona mataa😣</td>\n",
       "    </tr>\n",
       "    <tr>\n",
       "      <th>1</th>\n",
       "      <td>a01e1c68-2f77-4073-87c5-d7e5d75c8a79</td>\n",
       "      <td>@telecom1_TZ @telecom3Tanzania Na mtuue sasa</td>\n",
       "    </tr>\n",
       "    <tr>\n",
       "      <th>2</th>\n",
       "      <td>9a5e4b98-ac29-4138-bc28-fc878d5d8269</td>\n",
       "      <td>Hakuna mtandao wa simu unaoongoza kutuma messa...</td>\n",
       "    </tr>\n",
       "    <tr>\n",
       "      <th>3</th>\n",
       "      <td>9ef55f06-7748-4e02-85c7-fa3e46bb02dd</td>\n",
       "      <td>@Mwanzalimaa Itakuwa kaipenda no yako kaenda k...</td>\n",
       "    </tr>\n",
       "    <tr>\n",
       "      <th>4</th>\n",
       "      <td>d93b4084-3000-4026-bae0-ecb65564dbbd</td>\n",
       "      <td>@telecom1_TZ Mm Ni wakala wa usajili wa lain c...</td>\n",
       "    </tr>\n",
       "  </tbody>\n",
       "</table>\n",
       "</div>"
      ],
      "text/plain": [
       "                                test_id  \\\n",
       "0  53bb8dff-4a07-4aac-a6f2-ca552389652c   \n",
       "1  a01e1c68-2f77-4073-87c5-d7e5d75c8a79   \n",
       "2  9a5e4b98-ac29-4138-bc28-fc878d5d8269   \n",
       "3  9ef55f06-7748-4e02-85c7-fa3e46bb02dd   \n",
       "4  d93b4084-3000-4026-bae0-ecb65564dbbd   \n",
       "\n",
       "                                             comment  \n",
       "0             huduma1 wamenitext et wameniona mataa😣  \n",
       "1       @telecom1_TZ @telecom3Tanzania Na mtuue sasa  \n",
       "2  Hakuna mtandao wa simu unaoongoza kutuma messa...  \n",
       "3  @Mwanzalimaa Itakuwa kaipenda no yako kaenda k...  \n",
       "4  @telecom1_TZ Mm Ni wakala wa usajili wa lain c...  "
      ]
     },
     "execution_count": 4,
     "metadata": {},
     "output_type": "execute_result"
    }
   ],
   "source": [
    "# show top five rows of test data\n",
    "test.head()"
   ]
  },
  {
   "cell_type": "code",
   "execution_count": 5,
   "metadata": {
    "ExecuteTime": {
     "end_time": "2023-05-07T19:20:36.291866Z",
     "start_time": "2023-05-07T19:20:36.279792Z"
    }
   },
   "outputs": [
    {
     "data": {
      "text/html": [
       "<div>\n",
       "<style scoped>\n",
       "    .dataframe tbody tr th:only-of-type {\n",
       "        vertical-align: middle;\n",
       "    }\n",
       "\n",
       "    .dataframe tbody tr th {\n",
       "        vertical-align: top;\n",
       "    }\n",
       "\n",
       "    .dataframe thead th {\n",
       "        text-align: right;\n",
       "    }\n",
       "</style>\n",
       "<table border=\"1\" class=\"dataframe\">\n",
       "  <thead>\n",
       "    <tr style=\"text-align: right;\">\n",
       "      <th></th>\n",
       "      <th>test_id</th>\n",
       "      <th>sentiment</th>\n",
       "    </tr>\n",
       "  </thead>\n",
       "  <tbody>\n",
       "    <tr>\n",
       "      <th>0</th>\n",
       "      <td>53bb8dff-4a07-4aac-a6f2-ca552389652c</td>\n",
       "      <td>-1.0</td>\n",
       "    </tr>\n",
       "    <tr>\n",
       "      <th>1</th>\n",
       "      <td>a01e1c68-2f77-4073-87c5-d7e5d75c8a79</td>\n",
       "      <td>0.0</td>\n",
       "    </tr>\n",
       "    <tr>\n",
       "      <th>2</th>\n",
       "      <td>9a5e4b98-ac29-4138-bc28-fc878d5d8269</td>\n",
       "      <td>1.0</td>\n",
       "    </tr>\n",
       "    <tr>\n",
       "      <th>3</th>\n",
       "      <td>9ef55f06-7748-4e02-85c7-fa3e46bb02dd</td>\n",
       "      <td>NaN</td>\n",
       "    </tr>\n",
       "    <tr>\n",
       "      <th>4</th>\n",
       "      <td>d93b4084-3000-4026-bae0-ecb65564dbbd</td>\n",
       "      <td>NaN</td>\n",
       "    </tr>\n",
       "  </tbody>\n",
       "</table>\n",
       "</div>"
      ],
      "text/plain": [
       "                                test_id  sentiment\n",
       "0  53bb8dff-4a07-4aac-a6f2-ca552389652c       -1.0\n",
       "1  a01e1c68-2f77-4073-87c5-d7e5d75c8a79        0.0\n",
       "2  9a5e4b98-ac29-4138-bc28-fc878d5d8269        1.0\n",
       "3  9ef55f06-7748-4e02-85c7-fa3e46bb02dd        NaN\n",
       "4  d93b4084-3000-4026-bae0-ecb65564dbbd        NaN"
      ]
     },
     "execution_count": 5,
     "metadata": {},
     "output_type": "execute_result"
    }
   ],
   "source": [
    "# show top five rows of submision file\n",
    "submission.head()"
   ]
  },
  {
   "cell_type": "code",
   "execution_count": 6,
   "metadata": {
    "ExecuteTime": {
     "end_time": "2023-05-07T19:20:39.492294Z",
     "start_time": "2023-05-07T19:20:39.487931Z"
    }
   },
   "outputs": [
    {
     "data": {
      "text/plain": [
       "(3123, 3)"
      ]
     },
     "execution_count": 6,
     "metadata": {},
     "output_type": "execute_result"
    }
   ],
   "source": [
    "# check the shape of the train data\n",
    "train.shape"
   ]
  },
  {
   "cell_type": "code",
   "execution_count": 7,
   "metadata": {
    "ExecuteTime": {
     "end_time": "2023-05-07T19:20:40.043430Z",
     "start_time": "2023-05-07T19:20:40.039120Z"
    }
   },
   "outputs": [
    {
     "data": {
      "text/plain": [
       "(1041, 2)"
      ]
     },
     "execution_count": 7,
     "metadata": {},
     "output_type": "execute_result"
    }
   ],
   "source": [
    "# check the shape of the test data\n",
    "test.shape"
   ]
  },
  {
   "cell_type": "code",
   "execution_count": 8,
   "metadata": {
    "ExecuteTime": {
     "end_time": "2023-05-07T19:20:43.490786Z",
     "start_time": "2023-05-07T19:20:43.472646Z"
    }
   },
   "outputs": [
    {
     "data": {
      "text/plain": [
       "train_id     0\n",
       "comment      0\n",
       "sentiment    0\n",
       "dtype: int64"
      ]
     },
     "execution_count": 8,
     "metadata": {},
     "output_type": "execute_result"
    }
   ],
   "source": [
    "# check missing values in train data\n",
    "train.isnull().sum()"
   ]
  },
  {
   "cell_type": "code",
   "execution_count": 9,
   "metadata": {
    "ExecuteTime": {
     "end_time": "2023-05-07T19:20:44.004106Z",
     "start_time": "2023-05-07T19:20:43.990313Z"
    }
   },
   "outputs": [
    {
     "data": {
      "text/plain": [
       "test_id    0\n",
       "comment    0\n",
       "dtype: int64"
      ]
     },
     "execution_count": 9,
     "metadata": {},
     "output_type": "execute_result"
    }
   ],
   "source": [
    "# check missing values in test data\n",
    "test.isnull().sum()"
   ]
  },
  {
   "cell_type": "code",
   "execution_count": 10,
   "metadata": {
    "ExecuteTime": {
     "end_time": "2023-05-07T19:20:55.883784Z",
     "start_time": "2023-05-07T19:20:55.875899Z"
    }
   },
   "outputs": [
    {
     "data": {
      "text/plain": [
       "-1    1522\n",
       " 0    1177\n",
       " 1     424\n",
       "Name: sentiment, dtype: int64"
      ]
     },
     "execution_count": 10,
     "metadata": {},
     "output_type": "execute_result"
    }
   ],
   "source": [
    "# evalute Labels distribution\n",
    "train.sentiment.value_counts()"
   ]
  },
  {
   "cell_type": "markdown",
   "metadata": {},
   "source": [
    "### Data Preparation "
   ]
  },
  {
   "cell_type": "code",
   "execution_count": 11,
   "metadata": {
    "ExecuteTime": {
     "end_time": "2023-05-07T19:21:00.726055Z",
     "start_time": "2023-05-07T19:21:00.718200Z"
    }
   },
   "outputs": [],
   "source": [
    "# a simple function to clean text data \n",
    "\n",
    "def text_cleaning(text):\n",
    "    # Clean the text data\n",
    "\n",
    "    text = re.sub(r\"[^A-Za-z0-9]\", \" \", text)\n",
    "    text = re.sub(r'\\b\\d+(?:\\.\\d+)?\\s+', '', text) # remove numbers\n",
    "    text = text.lower()  # set in lowercase \n",
    "        \n",
    "    # Remove punctuation from text\n",
    "    text = ''.join([c for c in text if c not in punctuation])\n",
    "        \n",
    "    # Return a list of words\n",
    "    return(text)"
   ]
  },
  {
   "cell_type": "code",
   "execution_count": 12,
   "metadata": {
    "ExecuteTime": {
     "end_time": "2023-05-07T19:21:21.850324Z",
     "start_time": "2023-05-07T19:21:21.755793Z"
    }
   },
   "outputs": [],
   "source": [
    "#clean the train and test data\n",
    "train[\"comment\"] = train[\"comment\"].apply(text_cleaning)\n",
    "test[\"comment\"] = test[\"comment\"].apply(text_cleaning)"
   ]
  },
  {
   "cell_type": "code",
   "execution_count": 13,
   "metadata": {
    "ExecuteTime": {
     "end_time": "2023-05-07T19:21:35.496071Z",
     "start_time": "2023-05-07T19:21:35.491321Z"
    }
   },
   "outputs": [],
   "source": [
    "#split features and target from train data \n",
    "X = train[\"comment\"]\n",
    "y = train.sentiment.values"
   ]
  },
  {
   "cell_type": "code",
   "execution_count": 14,
   "metadata": {
    "ExecuteTime": {
     "end_time": "2023-05-07T19:21:43.075030Z",
     "start_time": "2023-05-07T19:21:42.980317Z"
    }
   },
   "outputs": [],
   "source": [
    "# Transform text data \n",
    "vectorizer = CountVectorizer(lowercase=False)\n",
    "\n",
    "vectorizer.fit(X)\n",
    "\n",
    "#transform train data \n",
    "X_transformed = vectorizer.transform(X)\n",
    "\n",
    "#transform test data\n",
    "test_transformed = vectorizer.transform(test[\"comment\"])"
   ]
  },
  {
   "cell_type": "code",
   "execution_count": 15,
   "metadata": {
    "ExecuteTime": {
     "end_time": "2023-05-07T19:21:55.603219Z",
     "start_time": "2023-05-07T19:21:55.590882Z"
    }
   },
   "outputs": [],
   "source": [
    "# split data into train and validate\n",
    "\n",
    "X_train, X_valid, y_train, y_valid = train_test_split(\n",
    "    X_transformed,\n",
    "    y,\n",
    "    test_size=0.10,\n",
    "    random_state=42,\n",
    "    shuffle=True,\n",
    "    stratify=y,\n",
    ")"
   ]
  },
  {
   "cell_type": "markdown",
   "metadata": {},
   "source": [
    "### Create Classifier "
   ]
  },
  {
   "cell_type": "code",
   "execution_count": 16,
   "metadata": {
    "ExecuteTime": {
     "end_time": "2023-05-07T19:21:59.468171Z",
     "start_time": "2023-05-07T19:21:59.463970Z"
    }
   },
   "outputs": [],
   "source": [
    "# Create a classifier\n",
    "tweets_classifier = RandomForestClassifier() "
   ]
  },
  {
   "cell_type": "code",
   "execution_count": 17,
   "metadata": {
    "ExecuteTime": {
     "end_time": "2023-05-07T19:22:03.673403Z",
     "start_time": "2023-05-07T19:22:00.478989Z"
    }
   },
   "outputs": [
    {
     "data": {
      "text/html": [
       "<style>#sk-container-id-1 {color: black;background-color: white;}#sk-container-id-1 pre{padding: 0;}#sk-container-id-1 div.sk-toggleable {background-color: white;}#sk-container-id-1 label.sk-toggleable__label {cursor: pointer;display: block;width: 100%;margin-bottom: 0;padding: 0.3em;box-sizing: border-box;text-align: center;}#sk-container-id-1 label.sk-toggleable__label-arrow:before {content: \"▸\";float: left;margin-right: 0.25em;color: #696969;}#sk-container-id-1 label.sk-toggleable__label-arrow:hover:before {color: black;}#sk-container-id-1 div.sk-estimator:hover label.sk-toggleable__label-arrow:before {color: black;}#sk-container-id-1 div.sk-toggleable__content {max-height: 0;max-width: 0;overflow: hidden;text-align: left;background-color: #f0f8ff;}#sk-container-id-1 div.sk-toggleable__content pre {margin: 0.2em;color: black;border-radius: 0.25em;background-color: #f0f8ff;}#sk-container-id-1 input.sk-toggleable__control:checked~div.sk-toggleable__content {max-height: 200px;max-width: 100%;overflow: auto;}#sk-container-id-1 input.sk-toggleable__control:checked~label.sk-toggleable__label-arrow:before {content: \"▾\";}#sk-container-id-1 div.sk-estimator input.sk-toggleable__control:checked~label.sk-toggleable__label {background-color: #d4ebff;}#sk-container-id-1 div.sk-label input.sk-toggleable__control:checked~label.sk-toggleable__label {background-color: #d4ebff;}#sk-container-id-1 input.sk-hidden--visually {border: 0;clip: rect(1px 1px 1px 1px);clip: rect(1px, 1px, 1px, 1px);height: 1px;margin: -1px;overflow: hidden;padding: 0;position: absolute;width: 1px;}#sk-container-id-1 div.sk-estimator {font-family: monospace;background-color: #f0f8ff;border: 1px dotted black;border-radius: 0.25em;box-sizing: border-box;margin-bottom: 0.5em;}#sk-container-id-1 div.sk-estimator:hover {background-color: #d4ebff;}#sk-container-id-1 div.sk-parallel-item::after {content: \"\";width: 100%;border-bottom: 1px solid gray;flex-grow: 1;}#sk-container-id-1 div.sk-label:hover label.sk-toggleable__label {background-color: #d4ebff;}#sk-container-id-1 div.sk-serial::before {content: \"\";position: absolute;border-left: 1px solid gray;box-sizing: border-box;top: 0;bottom: 0;left: 50%;z-index: 0;}#sk-container-id-1 div.sk-serial {display: flex;flex-direction: column;align-items: center;background-color: white;padding-right: 0.2em;padding-left: 0.2em;position: relative;}#sk-container-id-1 div.sk-item {position: relative;z-index: 1;}#sk-container-id-1 div.sk-parallel {display: flex;align-items: stretch;justify-content: center;background-color: white;position: relative;}#sk-container-id-1 div.sk-item::before, #sk-container-id-1 div.sk-parallel-item::before {content: \"\";position: absolute;border-left: 1px solid gray;box-sizing: border-box;top: 0;bottom: 0;left: 50%;z-index: -1;}#sk-container-id-1 div.sk-parallel-item {display: flex;flex-direction: column;z-index: 1;position: relative;background-color: white;}#sk-container-id-1 div.sk-parallel-item:first-child::after {align-self: flex-end;width: 50%;}#sk-container-id-1 div.sk-parallel-item:last-child::after {align-self: flex-start;width: 50%;}#sk-container-id-1 div.sk-parallel-item:only-child::after {width: 0;}#sk-container-id-1 div.sk-dashed-wrapped {border: 1px dashed gray;margin: 0 0.4em 0.5em 0.4em;box-sizing: border-box;padding-bottom: 0.4em;background-color: white;}#sk-container-id-1 div.sk-label label {font-family: monospace;font-weight: bold;display: inline-block;line-height: 1.2em;}#sk-container-id-1 div.sk-label-container {text-align: center;}#sk-container-id-1 div.sk-container {/* jupyter's `normalize.less` sets `[hidden] { display: none; }` but bootstrap.min.css set `[hidden] { display: none !important; }` so we also need the `!important` here to be able to override the default hidden behavior on the sphinx rendered scikit-learn.org. See: https://github.com/scikit-learn/scikit-learn/issues/21755 */display: inline-block !important;position: relative;}#sk-container-id-1 div.sk-text-repr-fallback {display: none;}</style><div id=\"sk-container-id-1\" class=\"sk-top-container\"><div class=\"sk-text-repr-fallback\"><pre>RandomForestClassifier()</pre><b>In a Jupyter environment, please rerun this cell to show the HTML representation or trust the notebook. <br />On GitHub, the HTML representation is unable to render, please try loading this page with nbviewer.org.</b></div><div class=\"sk-container\" hidden><div class=\"sk-item\"><div class=\"sk-estimator sk-toggleable\"><input class=\"sk-toggleable__control sk-hidden--visually\" id=\"sk-estimator-id-1\" type=\"checkbox\" checked><label for=\"sk-estimator-id-1\" class=\"sk-toggleable__label sk-toggleable__label-arrow\">RandomForestClassifier</label><div class=\"sk-toggleable__content\"><pre>RandomForestClassifier()</pre></div></div></div></div></div>"
      ],
      "text/plain": [
       "RandomForestClassifier()"
      ]
     },
     "execution_count": 17,
     "metadata": {},
     "output_type": "execute_result"
    }
   ],
   "source": [
    "# train the tweets_classifier \n",
    "tweets_classifier.fit(X_train,y_train)"
   ]
  },
  {
   "cell_type": "code",
   "execution_count": 18,
   "metadata": {
    "ExecuteTime": {
     "end_time": "2023-05-07T19:22:06.196810Z",
     "start_time": "2023-05-07T19:22:06.164396Z"
    }
   },
   "outputs": [],
   "source": [
    "# test model performance on valid data \n",
    "y_preds = tweets_classifier.predict(X_valid)"
   ]
  },
  {
   "cell_type": "code",
   "execution_count": 19,
   "metadata": {
    "ExecuteTime": {
     "end_time": "2023-05-07T19:22:12.278547Z",
     "start_time": "2023-05-07T19:22:12.268435Z"
    }
   },
   "outputs": [
    {
     "data": {
      "text/plain": [
       "0.5686900958466453"
      ]
     },
     "execution_count": 19,
     "metadata": {},
     "output_type": "execute_result"
    }
   ],
   "source": [
    "# evalute model performance by using accuracy_score in the validation data\n",
    "accuracy_score(y_valid, y_preds) "
   ]
  },
  {
   "cell_type": "code",
   "execution_count": 20,
   "metadata": {
    "ExecuteTime": {
     "end_time": "2023-05-07T19:22:20.368024Z",
     "start_time": "2023-05-07T19:22:20.289384Z"
    }
   },
   "outputs": [],
   "source": [
    "# create prediction from the test data\n",
    "test_preds = tweets_classifier.predict(test_transformed)"
   ]
  },
  {
   "cell_type": "markdown",
   "metadata": {},
   "source": [
    "### Create Submission File"
   ]
  },
  {
   "cell_type": "code",
   "execution_count": 21,
   "metadata": {
    "ExecuteTime": {
     "end_time": "2023-05-07T19:22:36.522787Z",
     "start_time": "2023-05-07T19:22:36.514791Z"
    }
   },
   "outputs": [],
   "source": [
    "# create submission file \n",
    "submission[\"sentiment\"] = test_preds"
   ]
  },
  {
   "cell_type": "code",
   "execution_count": 22,
   "metadata": {
    "ExecuteTime": {
     "end_time": "2023-05-07T19:22:37.455208Z",
     "start_time": "2023-05-07T19:22:37.441007Z"
    }
   },
   "outputs": [
    {
     "data": {
      "text/html": [
       "<div>\n",
       "<style scoped>\n",
       "    .dataframe tbody tr th:only-of-type {\n",
       "        vertical-align: middle;\n",
       "    }\n",
       "\n",
       "    .dataframe tbody tr th {\n",
       "        vertical-align: top;\n",
       "    }\n",
       "\n",
       "    .dataframe thead th {\n",
       "        text-align: right;\n",
       "    }\n",
       "</style>\n",
       "<table border=\"1\" class=\"dataframe\">\n",
       "  <thead>\n",
       "    <tr style=\"text-align: right;\">\n",
       "      <th></th>\n",
       "      <th>test_id</th>\n",
       "      <th>sentiment</th>\n",
       "    </tr>\n",
       "  </thead>\n",
       "  <tbody>\n",
       "    <tr>\n",
       "      <th>0</th>\n",
       "      <td>53bb8dff-4a07-4aac-a6f2-ca552389652c</td>\n",
       "      <td>0</td>\n",
       "    </tr>\n",
       "    <tr>\n",
       "      <th>1</th>\n",
       "      <td>a01e1c68-2f77-4073-87c5-d7e5d75c8a79</td>\n",
       "      <td>-1</td>\n",
       "    </tr>\n",
       "    <tr>\n",
       "      <th>2</th>\n",
       "      <td>9a5e4b98-ac29-4138-bc28-fc878d5d8269</td>\n",
       "      <td>-1</td>\n",
       "    </tr>\n",
       "    <tr>\n",
       "      <th>3</th>\n",
       "      <td>9ef55f06-7748-4e02-85c7-fa3e46bb02dd</td>\n",
       "      <td>0</td>\n",
       "    </tr>\n",
       "    <tr>\n",
       "      <th>4</th>\n",
       "      <td>d93b4084-3000-4026-bae0-ecb65564dbbd</td>\n",
       "      <td>-1</td>\n",
       "    </tr>\n",
       "  </tbody>\n",
       "</table>\n",
       "</div>"
      ],
      "text/plain": [
       "                                test_id  sentiment\n",
       "0  53bb8dff-4a07-4aac-a6f2-ca552389652c          0\n",
       "1  a01e1c68-2f77-4073-87c5-d7e5d75c8a79         -1\n",
       "2  9a5e4b98-ac29-4138-bc28-fc878d5d8269         -1\n",
       "3  9ef55f06-7748-4e02-85c7-fa3e46bb02dd          0\n",
       "4  d93b4084-3000-4026-bae0-ecb65564dbbd         -1"
      ]
     },
     "execution_count": 22,
     "metadata": {},
     "output_type": "execute_result"
    }
   ],
   "source": [
    "# show sample submissoin rows\n",
    "submission.head() "
   ]
  },
  {
   "cell_type": "code",
   "execution_count": 23,
   "metadata": {
    "ExecuteTime": {
     "end_time": "2023-05-07T19:22:43.803792Z",
     "start_time": "2023-05-07T19:22:43.790556Z"
    }
   },
   "outputs": [],
   "source": [
    "# save submission file \n",
    "submission.to_csv(path+\"first_submission.csv\",index=False) "
   ]
  },
  {
   "cell_type": "markdown",
   "metadata": {},
   "source": [
    "Now upload your first submssion file on the hackathon page 👍"
   ]
  }
 ],
 "metadata": {
  "hide_input": false,
  "kernelspec": {
   "display_name": "Python 3",
   "language": "python",
   "name": "python3"
  },
  "language_info": {
   "codemirror_mode": {
    "name": "ipython",
    "version": 3
   },
   "file_extension": ".py",
   "mimetype": "text/x-python",
   "name": "python",
   "nbconvert_exporter": "python",
   "pygments_lexer": "ipython3",
   "version": "3.10.6"
  },
  "toc": {
   "base_numbering": 1,
   "nav_menu": {},
   "number_sections": true,
   "sideBar": true,
   "skip_h1_title": false,
   "title_cell": "Table of Contents",
   "title_sidebar": "Contents",
   "toc_cell": false,
   "toc_position": {},
   "toc_section_display": true,
   "toc_window_display": false
  }
 },
 "nbformat": 4,
 "nbformat_minor": 2
}
